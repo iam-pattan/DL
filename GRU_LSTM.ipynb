{
  "nbformat": 4,
  "nbformat_minor": 0,
  "metadata": {
    "colab": {
      "name": "GRU_LSTM.ipynb",
      "provenance": [],
      "authorship_tag": "ABX9TyNitUejI/IBzEtSuu4uLz7w",
      "include_colab_link": true
    },
    "kernelspec": {
      "name": "python3",
      "display_name": "Python 3"
    },
    "language_info": {
      "name": "python"
    },
    "accelerator": "GPU"
  },
  "cells": [
    {
      "cell_type": "markdown",
      "metadata": {
        "id": "view-in-github",
        "colab_type": "text"
      },
      "source": [
        "<a href=\"https://colab.research.google.com/github/iam-pattan/DL/blob/master/GRU_LSTM.ipynb\" target=\"_parent\"><img src=\"https://colab.research.google.com/assets/colab-badge.svg\" alt=\"Open In Colab\"/></a>"
      ]
    },
    {
      "cell_type": "code",
      "metadata": {
        "id": "BIK38C6SSJnR"
      },
      "source": [
        "# !wget 'https://www.gutenberg.org/files/236/236-0.txt'"
      ],
      "execution_count": 5,
      "outputs": []
    },
    {
      "cell_type": "code",
      "metadata": {
        "id": "pLdApoF-SaGW"
      },
      "source": [
        "from keras.models import Sequential\n",
        "from keras.layers import Dense, Dropout, LSTM, GRU\n",
        "from keras.optimizers import RMSprop\n",
        "import numpy as np\n",
        "import random\n",
        "import sys"
      ],
      "execution_count": 6,
      "outputs": []
    },
    {
      "cell_type": "code",
      "metadata": {
        "colab": {
          "base_uri": "https://localhost:8080/"
        },
        "id": "9rSbHgdfSaLn",
        "outputId": "c930de82-ad6c-489b-d4cd-3fde793f81cb"
      },
      "source": [
        "#LOAD TEXT\n",
        "#Save notepad as UTF-8 (select from dropdown during saving)\n",
        "filename = \"/content/236-0.txt\"\n",
        "raw_text = open(filename, 'r', encoding='utf-8').read()\n",
        "raw_text = raw_text.lower()\n",
        "print(raw_text[0:1000])\n",
        "# "
      ],
      "execution_count": 7,
      "outputs": [
        {
          "output_type": "stream",
          "text": [
            "﻿the project gutenberg ebook of the jungle book, by rudyard kipling\n",
            "\n",
            "this ebook is for the use of anyone anywhere at no cost and with\n",
            "almost no restrictions whatsoever.  you may copy it, give it away or\n",
            "re-use it under the terms of the project gutenberg license included\n",
            "with this ebook or online at www.gutenberg.org\n",
            "\n",
            "\n",
            "title: the jungle book\n",
            "\n",
            "author: rudyard kipling\n",
            "\n",
            "release date: january 16, 2006 [ebook #236]\n",
            "last updated: october 6, 2016\n",
            "\n",
            "language: english\n",
            "\n",
            "character set encoding: utf-8\n",
            "\n",
            "*** start of this project gutenberg ebook the jungle book ***\n",
            "\n",
            "\n",
            "\n",
            "\n",
            "produced by an anonymous volunteer and david widger\n",
            "\n",
            "\n",
            "\n",
            "\n",
            "\n",
            "the jungle book\n",
            "\n",
            "by rudyard kipling\n",
            "\n",
            "\n",
            "\n",
            "contents\n",
            "\n",
            "     mowgli’s brothers\n",
            "     hunting-song of the seeonee pack\n",
            "     kaa’s hunting\n",
            "     road-song of the bandar-log\n",
            "     “tiger! tiger!”\n",
            "      mowgli’s song\n",
            "     the white seal\n",
            "     lukannon\n",
            "     “rikki-tikki-tavi”\n",
            "      darzee’s chant\n",
            "     toomai of the elephants\n",
            "     shiv and the grasshopper\n",
            "     her majesty’s servants\n",
            "     parade so\n"
          ],
          "name": "stdout"
        }
      ]
    },
    {
      "cell_type": "code",
      "metadata": {
        "id": "SFbrbvpjSaPv"
      },
      "source": [
        "#CLEAN TEXT\n",
        "#Remove numbers\n",
        "raw_text = ''.join(c for c in raw_text if not c.isdigit())"
      ],
      "execution_count": 8,
      "outputs": []
    },
    {
      "cell_type": "code",
      "metadata": {
        "id": "kod8PL10SaTH"
      },
      "source": [
        "#How many total characters do we have in our training text?\n",
        "chars = sorted(list(set(raw_text))) #List of every character"
      ],
      "execution_count": 9,
      "outputs": []
    },
    {
      "cell_type": "code",
      "metadata": {
        "id": "xQeuv6RcSaX7"
      },
      "source": [
        "#Character sequences must be encoded as integers. \n",
        "#Each unique character will be assigned an integer value. \n",
        "#Create a dictionary of characters mapped to integer values\n",
        "char_to_int = dict((c, i) for i, c in enumerate(chars))"
      ],
      "execution_count": 10,
      "outputs": []
    },
    {
      "cell_type": "code",
      "metadata": {
        "colab": {
          "base_uri": "https://localhost:8080/"
        },
        "id": "KMU2bkUISabS",
        "outputId": "c55f63ec-8ca7-4380-e79c-c49a7782d6bd"
      },
      "source": [
        "#Do the reverse so we can print our predictions in characters and not integers\n",
        "int_to_char = dict((i, c) for i, c in enumerate(chars))\n",
        "\n",
        "# summarize the data\n",
        "n_chars = len(raw_text)\n",
        "n_vocab = len(chars)\n",
        "print(\"Total Characters in the text; corpus length: \", n_chars)\n",
        "print(\"Total Vocab: \", n_vocab)"
      ],
      "execution_count": 11,
      "outputs": [
        {
          "output_type": "stream",
          "text": [
            "Total Characters in the text; corpus length:  292870\n",
            "Total Vocab:  51\n"
          ],
          "name": "stdout"
        }
      ]
    },
    {
      "cell_type": "code",
      "metadata": {
        "colab": {
          "base_uri": "https://localhost:8080/"
        },
        "id": "vOGWp2w2Saet",
        "outputId": "82b5e10f-da3a-424f-e12f-dbd27d009fc5"
      },
      "source": [
        "#Now that we have characters we can create input/output sequences for training\n",
        "#Remember that for LSTM input and output can be sequences... hence the term seq2seq\n",
        "\n",
        "seq_length = 60  #Length of each input sequence\n",
        "step = 10   #Instead of moving 1 letter at a time, try skipping a few. \n",
        "sentences = []    # X values (Sentences)\n",
        "next_chars = []   # Y values. The character that follows the sentence defined as X\n",
        "for i in range(0, n_chars - seq_length, step):  #step=1 means each sentence is offset just by a single letter\n",
        "    sentences.append(raw_text[i: i + seq_length])  #Sequence in\n",
        "    next_chars.append(raw_text[i + seq_length])  #Sequence out\n",
        "n_patterns = len(sentences)    \n",
        "print('Number of sequences:', n_patterns)"
      ],
      "execution_count": 12,
      "outputs": [
        {
          "output_type": "stream",
          "text": [
            "Number of sequences: 29281\n"
          ],
          "name": "stdout"
        }
      ]
    },
    {
      "cell_type": "code",
      "metadata": {
        "colab": {
          "base_uri": "https://localhost:8080/"
        },
        "id": "6WzRuMLGSwVl",
        "outputId": "bf7ed187-6c7f-4b1c-a105-57326a0cfd60"
      },
      "source": [
        "#Just like time series, X is the sequence / sentence and y is the next value\n",
        "#that comes after the sentence... \n",
        "\n",
        "# reshape input to be [samples, time steps, features]\n",
        "x = np.zeros((len(sentences), seq_length, n_vocab), dtype=np.bool)\n",
        "y = np.zeros((len(sentences), n_vocab), dtype=np.bool)\n",
        "for i, sentence in enumerate(sentences):\n",
        "    for t, char in enumerate(sentence):\n",
        "        x[i, t, char_to_int[char]] = 1\n",
        "    y[i, char_to_int[next_chars[i]]] = 1\n",
        "    \n",
        "print(x.shape)\n",
        "print(y.shape)\n",
        "\n",
        "print(y[0:10])"
      ],
      "execution_count": 13,
      "outputs": [
        {
          "output_type": "stream",
          "text": [
            "(29281, 60, 51)\n",
            "(29281, 51)\n",
            "[[False False False False False False False False False False False False\n",
            "  False False False False False False False False False False False False\n",
            "  False False False False False False  True False False False False False\n",
            "  False False False False False False False False False False False False\n",
            "  False False False]\n",
            " [False False False False False False False False False False False False\n",
            "  False False False False False False False False False False False False\n",
            "  False False False  True False False False False False False False False\n",
            "  False False False False False False False False False False False False\n",
            "  False False False]\n",
            " [False False False False False False False False False False False False\n",
            "  False False False False False False False False False False False False\n",
            "  False False False False  True False False False False False False False\n",
            "  False False False False False False False False False False False False\n",
            "  False False False]\n",
            " [False  True False False False False False False False False False False\n",
            "  False False False False False False False False False False False False\n",
            "  False False False False False False False False False False False False\n",
            "  False False False False False False False False False False False False\n",
            "  False False False]\n",
            " [False False False False False False False False False False False False\n",
            "  False False False False False False False False False False False False\n",
            "  False False False False False False False False False False False False\n",
            "  False False False False False False False False  True False False False\n",
            "  False False False]\n",
            " [False False False False False False False False False False False False\n",
            "  False False False False False False False False False False False False\n",
            "   True False False False False False False False False False False False\n",
            "  False False False False False False False False False False False False\n",
            "  False False False]\n",
            " [False False False False False False False False False False False False\n",
            "  False False False False False False False False False False  True False\n",
            "  False False False False False False False False False False False False\n",
            "  False False False False False False False False False False False False\n",
            "  False False False]\n",
            " [False False False False False False False False False False False False\n",
            "  False False False False False False False False False False False False\n",
            "  False False False False  True False False False False False False False\n",
            "  False False False False False False False False False False False False\n",
            "  False False False]\n",
            " [False  True False False False False False False False False False False\n",
            "  False False False False False False False False False False False False\n",
            "  False False False False False False False False False False False False\n",
            "  False False False False False False False False False False False False\n",
            "  False False False]\n",
            " [False False False False False False False False False False False False\n",
            "  False False False False False False False False False False  True False\n",
            "  False False False False False False False False False False False False\n",
            "  False False False False False False False False False False False False\n",
            "  False False False]]\n"
          ],
          "name": "stdout"
        }
      ]
    },
    {
      "cell_type": "code",
      "metadata": {
        "colab": {
          "base_uri": "https://localhost:8080/"
        },
        "id": "R6v5INOsSwPr",
        "outputId": "44293ece-a828-4be6-d346-dcce3c198e92"
      },
      "source": [
        "#Basic model with one LSTM\n",
        "# build the model: a single LSTM\n",
        "\n",
        "model = Sequential()\n",
        "model.add(GRU(128, input_shape=(seq_length, n_vocab)))\n",
        "model.add(Dense(n_vocab, activation='softmax'))\n",
        "\n",
        "optimizer = RMSprop(lr=0.01)\n",
        "model.compile(loss='categorical_crossentropy', optimizer=optimizer)\n",
        "model.summary()"
      ],
      "execution_count": 14,
      "outputs": [
        {
          "output_type": "stream",
          "text": [
            "Model: \"sequential\"\n",
            "_________________________________________________________________\n",
            "Layer (type)                 Output Shape              Param #   \n",
            "=================================================================\n",
            "gru (GRU)                    (None, 128)               69504     \n",
            "_________________________________________________________________\n",
            "dense (Dense)                (None, 51)                6579      \n",
            "=================================================================\n",
            "Total params: 76,083\n",
            "Trainable params: 76,083\n",
            "Non-trainable params: 0\n",
            "_________________________________________________________________\n"
          ],
          "name": "stdout"
        }
      ]
    },
    {
      "cell_type": "code",
      "metadata": {
        "id": "Ifxl8ok4SwJ7"
      },
      "source": [
        "# define the checkpoint\n",
        "from keras.callbacks import ModelCheckpoint\n",
        "\n",
        "filepath=\"saved_weights/saved_weights-{epoch:02d}-{loss:.4f}.hdf5\"\n",
        "checkpoint = ModelCheckpoint(filepath, monitor='loss', verbose=1, save_best_only=True, mode='min')\n",
        "\n",
        "callbacks_list = [checkpoint]"
      ],
      "execution_count": 15,
      "outputs": []
    },
    {
      "cell_type": "code",
      "metadata": {
        "colab": {
          "base_uri": "https://localhost:8080/"
        },
        "id": "y-J7NtQZSwB2",
        "outputId": "f844795d-4b0b-4764-ffe8-2c5492935aea"
      },
      "source": [
        "# Fit the model\n",
        "\n",
        "history = model.fit(x, y,\n",
        "          batch_size=128,\n",
        "          epochs=10,   \n",
        "          callbacks=callbacks_list)\n",
        "\n",
        "model.save('my_saved_weights_jungle_book_50epochs.h5')"
      ],
      "execution_count": 17,
      "outputs": [
        {
          "output_type": "stream",
          "text": [
            "Epoch 1/10\n",
            "229/229 [==============================] - 27s 118ms/step - loss: 1.7422\n",
            "\n",
            "Epoch 00001: loss improved from 1.94501 to 1.74221, saving model to saved_weights/saved_weights-01-1.7422.hdf5\n",
            "Epoch 2/10\n",
            "229/229 [==============================] - 27s 118ms/step - loss: 1.6189\n",
            "\n",
            "Epoch 00002: loss improved from 1.74221 to 1.61886, saving model to saved_weights/saved_weights-02-1.6189.hdf5\n",
            "Epoch 3/10\n",
            "229/229 [==============================] - 27s 118ms/step - loss: 1.5252\n",
            "\n",
            "Epoch 00003: loss improved from 1.61886 to 1.52516, saving model to saved_weights/saved_weights-03-1.5252.hdf5\n",
            "Epoch 4/10\n",
            "229/229 [==============================] - 27s 118ms/step - loss: 1.4505\n",
            "\n",
            "Epoch 00004: loss improved from 1.52516 to 1.45051, saving model to saved_weights/saved_weights-04-1.4505.hdf5\n",
            "Epoch 5/10\n",
            "229/229 [==============================] - 27s 118ms/step - loss: 1.3933\n",
            "\n",
            "Epoch 00005: loss improved from 1.45051 to 1.39330, saving model to saved_weights/saved_weights-05-1.3933.hdf5\n",
            "Epoch 6/10\n",
            "229/229 [==============================] - 27s 118ms/step - loss: 1.3545\n",
            "\n",
            "Epoch 00006: loss improved from 1.39330 to 1.35447, saving model to saved_weights/saved_weights-06-1.3545.hdf5\n",
            "Epoch 7/10\n",
            "229/229 [==============================] - 27s 118ms/step - loss: 1.3233\n",
            "\n",
            "Epoch 00007: loss improved from 1.35447 to 1.32332, saving model to saved_weights/saved_weights-07-1.3233.hdf5\n",
            "Epoch 8/10\n",
            "229/229 [==============================] - 27s 118ms/step - loss: 1.3085\n",
            "\n",
            "Epoch 00008: loss improved from 1.32332 to 1.30855, saving model to saved_weights/saved_weights-08-1.3085.hdf5\n",
            "Epoch 9/10\n",
            "229/229 [==============================] - 27s 118ms/step - loss: 1.3005\n",
            "\n",
            "Epoch 00009: loss improved from 1.30855 to 1.30055, saving model to saved_weights/saved_weights-09-1.3005.hdf5\n",
            "Epoch 10/10\n",
            "229/229 [==============================] - 27s 118ms/step - loss: 1.2920\n",
            "\n",
            "Epoch 00010: loss improved from 1.30055 to 1.29202, saving model to saved_weights/saved_weights-10-1.2920.hdf5\n"
          ],
          "name": "stdout"
        }
      ]
    },
    {
      "cell_type": "code",
      "metadata": {
        "id": "dsH8LgrHSaAL"
      },
      "source": [
        "# Deeper model woth 2 LSTM\n",
        "#To stack LSTM layers, we need to change the configuration of the prior \n",
        "#LSTM layer to output a 3D array as input for the subsequent layer.\n",
        "#We can do this by setting the return_sequences argument on the layer to True \n",
        "#(defaults to False). This will return one output for each input time step and provide a 3D array.\n",
        "#Below is the same example as above with return_sequences=True.\n",
        "\n",
        "#model = Sequential()\n",
        "#model.add(LSTM(128, input_shape=(seq_length, n_vocab), return_sequences=True))\n",
        "#model.add(Dropout(0.2))\n",
        "#model.add(LSTM(128))\n",
        "#model.add(Dropout(0.2))\n",
        "#model.add(Dense(n_vocab, activation='softmax'))\n",
        "\n",
        "#optimizer = RMSprop(lr=0.01)\n",
        "#model.compile(loss='categorical_crossentropy', optimizer=optimizer)\n",
        "#model.summary()"
      ],
      "execution_count": null,
      "outputs": []
    },
    {
      "cell_type": "code",
      "metadata": {
        "colab": {
          "base_uri": "https://localhost:8080/",
          "height": 295
        },
        "id": "8qS7dxhbSv7I",
        "outputId": "41c1ecef-699b-42b6-9972-e6e3a604c5ca"
      },
      "source": [
        "from matplotlib import pyplot as plt\n",
        "#plot the training and validation accuracy and loss at each epoch\n",
        "loss = history.history['loss']\n",
        "epochs = range(1, len(loss) + 1)\n",
        "plt.plot(epochs, loss, 'y', label='Training loss')\n",
        "plt.title('Training loss')\n",
        "plt.xlabel('Epochs')\n",
        "plt.ylabel('Loss')\n",
        "plt.legend()\n",
        "plt.show()"
      ],
      "execution_count": 18,
      "outputs": [
        {
          "output_type": "display_data",
          "data": {
            "image/png": "[encoded data removed]",
            "text/plain": [
              "<Figure size 432x288 with 1 Axes>"
            ]
          },
          "metadata": {
            "tags": [],
            "needs_background": "light"
          }
        }
      ]
    },
    {
      "cell_type": "code",
      "metadata": {
        "id": "WzJCV-HISvzS"
      },
      "source": [
        "#Writing our own softmax function....\n",
        "\n",
        "def sample(preds):\n",
        "    preds = np.asarray(preds).astype('float64')\n",
        "    preds = np.log(preds)\n",
        "    exp_preds = np.exp(preds) #exp of log (x), isn't this same as x??\n",
        "    preds = exp_preds / np.sum(exp_preds)\n",
        "    probas = np.random.multinomial(1, preds, 1) \n",
        "    return np.argmax(probas)"
      ],
      "execution_count": 19,
      "outputs": []
    },
    {
      "cell_type": "code",
      "metadata": {
        "colab": {
          "base_uri": "https://localhost:8080/"
        },
        "id": "f5coGh2mTatG",
        "outputId": "283b1a7d-bed5-426d-ae65-5cbb3fda57d8"
      },
      "source": [
        "#Prediction\n",
        "# load the network weights\n",
        "filename = \"my_saved_weights_jungle_book_50epochs.h5\"\n",
        "model.load_weights(filename)\n",
        "\n",
        "#Pick a random sentence from the text as seed.\n",
        "start_index = random.randint(0, n_chars - seq_length - 1)\n",
        "\n",
        "#Initiate generated text and keep adding new predictions and print them out\n",
        "generated = ''\n",
        "sentence = raw_text[start_index: start_index + seq_length]\n",
        "generated += sentence\n",
        "\n",
        "print('----- Seed for our text prediction: \"' + sentence + '\"')\n",
        "#sys.stdout.write(generated)"
      ],
      "execution_count": 21,
      "outputs": [
        {
          "output_type": "stream",
          "text": [
            "----- Seed for our text prediction: \" know, he has an extra joint in his\n",
            "foreflipper, and by wavi\"\n"
          ],
          "name": "stdout"
        }
      ]
    },
    {
      "cell_type": "code",
      "metadata": {
        "colab": {
          "base_uri": "https://localhost:8080/"
        },
        "id": "ROPcnCmlTdVP",
        "outputId": "169eac02-34e0-4d20-beaa-9f5a67e8f366"
      },
      "source": [
        "for i in range(400):   # Number of characters including spaces\n",
        "    x_pred = np.zeros((1, seq_length, n_vocab))\n",
        "    for t, char in enumerate(sentence):\n",
        "        x_pred[0, t, char_to_int[char]] = 1.\n",
        "\n",
        "    preds = model.predict(x_pred, verbose=0)[0]\n",
        "    next_index = sample(preds)\n",
        "    next_char = int_to_char[next_index]\n",
        "\n",
        "    generated += next_char\n",
        "    sentence = sentence[1:] + next_char\n",
        "\n",
        "    sys.stdout.write(next_char)\n",
        "    sys.stdout.flush()\n",
        "print()"
      ],
      "execution_count": 22,
      "outputs": [
        {
          "output_type": "stream",
          "text": [
            "st swit was the end wat he had the live\n",
            "roter in his out things his head dad nove he cank theisgot only gould\n",
            "balhes measty.  akels, wergetennersaid, whith my cries tickly\n",
            "belangul for you mowh have hust him benderocks. his is thein for he wacr hoous the withoruteed\n",
            "him comilat of shere, knowly their mery will chreest tow they with pritting\n",
            "\n",
            "projeingiosi, it me a weelding on their\n",
            "the elophants, s\n"
          ],
          "name": "stdout"
        }
      ]
    }
  ]
}