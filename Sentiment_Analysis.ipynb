{
  "nbformat": 4,
  "nbformat_minor": 0,
  "metadata": {
    "colab": {
      "name": "Sentiment_Analysis.ipynb",
      "provenance": [],
      "authorship_tag": "ABX9TyOzWQ1J1ZqbGNM4rBk37xw4",
      "include_colab_link": true
    },
    "kernelspec": {
      "name": "python3",
      "display_name": "Python 3"
    },
    "language_info": {
      "name": "python"
    },
    "accelerator": "GPU"
  },
  "cells": [
    {
      "cell_type": "markdown",
      "metadata": {
        "id": "view-in-github",
        "colab_type": "text"
      },
      "source": [
        "<a href=\"https://colab.research.google.com/github/iam-pattan/DL/blob/master/Sentiment_Analysis.ipynb\" target=\"_parent\"><img src=\"https://colab.research.google.com/assets/colab-badge.svg\" alt=\"Open In Colab\"/></a>"
      ]
    },
    {
      "cell_type": "markdown",
      "metadata": {
        "id": "ek_4PZ_p35Lm"
      },
      "source": [
        "## Air data preprocessing "
      ]
    },
    {
      "cell_type": "code",
      "metadata": {
        "id": "InK2fcViwfut"
      },
      "source": [
        "import tensorflow as tf\n",
        "from tensorflow.keras.layers import Embedding\n",
        "from tensorflow.keras.preprocessing.sequence import pad_sequences\n",
        "from tensorflow.keras.models import Sequential\n",
        "from tensorflow.keras.preprocessing.text import one_hot\n",
        "import pandas as pd\n",
        "import numpy as np\n",
        "import matplotlib.pyplot as plt\n",
        "import seaborn as sns\n",
        "import re"
      ],
      "execution_count": 1,
      "outputs": []
    },
    {
      "cell_type": "code",
      "metadata": {
        "id": "YW90Pgre5cU0"
      },
      "source": [
        "train_path = 'https://raw.githubusercontent.com/AnubhavJohri/Twitter-US-Airline-Sentiment-Analysis/master/Twitter%20US%20Airline%20Sentiment%20Analysis/Dataset/training_data.csv'\n",
        "test_path = 'https://raw.githubusercontent.com/AnubhavJohri/Twitter-US-Airline-Sentiment-Analysis/master/Twitter%20US%20Airline%20Sentiment%20Analysis/Dataset/test_data.csv'"
      ],
      "execution_count": 2,
      "outputs": []
    },
    {
      "cell_type": "code",
      "metadata": {
        "id": "MYqeePOo5OXk"
      },
      "source": [
        "train = pd.read_csv(train_path, error_bad_lines=False)\n",
        "test = pd.read_csv(test_path, error_bad_lines=False)"
      ],
      "execution_count": 3,
      "outputs": []
    },
    {
      "cell_type": "code",
      "metadata": {
        "colab": {
          "base_uri": "https://localhost:8080/",
          "height": 467
        },
        "id": "e9ovbSpE5Odc",
        "outputId": "96db1899-3541-40cb-9b62-01548450b37a"
      },
      "source": [
        "train.head()"
      ],
      "execution_count": 4,
      "outputs": [
        {
          "output_type": "execute_result",
          "data": {
            "text/html": [
              "<div>\n",
              "<style scoped>\n",
              "    .dataframe tbody tr th:only-of-type {\n",
              "        vertical-align: middle;\n",
              "    }\n",
              "\n",
              "    .dataframe tbody tr th {\n",
              "        vertical-align: top;\n",
              "    }\n",
              "\n",
              "    .dataframe thead th {\n",
              "        text-align: right;\n",
              "    }\n",
              "</style>\n",
              "<table border=\"1\" class=\"dataframe\">\n",
              "  <thead>\n",
              "    <tr style=\"text-align: right;\">\n",
              "      <th></th>\n",
              "      <th>tweet_id</th>\n",
              "      <th>airline_sentiment</th>\n",
              "      <th>airline</th>\n",
              "      <th>airline_sentiment_gold</th>\n",
              "      <th>name</th>\n",
              "      <th>negativereason_gold</th>\n",
              "      <th>retweet_count</th>\n",
              "      <th>text</th>\n",
              "      <th>tweet_coord</th>\n",
              "      <th>tweet_created</th>\n",
              "      <th>tweet_location</th>\n",
              "      <th>user_timezone</th>\n",
              "    </tr>\n",
              "  </thead>\n",
              "  <tbody>\n",
              "    <tr>\n",
              "      <th>0</th>\n",
              "      <td>567900433542488064</td>\n",
              "      <td>negative</td>\n",
              "      <td>Southwest</td>\n",
              "      <td>NaN</td>\n",
              "      <td>ColeyGirouard</td>\n",
              "      <td>NaN</td>\n",
              "      <td>0</td>\n",
              "      <td>@SouthwestAir I am scheduled for the morning, ...</td>\n",
              "      <td>NaN</td>\n",
              "      <td>2015-02-17 20:16:29 -0800</td>\n",
              "      <td>Washington D.C.</td>\n",
              "      <td>Atlantic Time (Canada)</td>\n",
              "    </tr>\n",
              "    <tr>\n",
              "      <th>1</th>\n",
              "      <td>569989168903819264</td>\n",
              "      <td>positive</td>\n",
              "      <td>Southwest</td>\n",
              "      <td>NaN</td>\n",
              "      <td>WalterFaddoul</td>\n",
              "      <td>NaN</td>\n",
              "      <td>0</td>\n",
              "      <td>@SouthwestAir seeing your workers time in and ...</td>\n",
              "      <td>NaN</td>\n",
              "      <td>2015-02-23 14:36:22 -0800</td>\n",
              "      <td>Indianapolis, Indiana; USA</td>\n",
              "      <td>Central Time (US &amp; Canada)</td>\n",
              "    </tr>\n",
              "    <tr>\n",
              "      <th>2</th>\n",
              "      <td>568089179520954368</td>\n",
              "      <td>positive</td>\n",
              "      <td>United</td>\n",
              "      <td>NaN</td>\n",
              "      <td>LocalKyle</td>\n",
              "      <td>NaN</td>\n",
              "      <td>0</td>\n",
              "      <td>@united Flew ORD to Miami and back and  had gr...</td>\n",
              "      <td>NaN</td>\n",
              "      <td>2015-02-18 08:46:29 -0800</td>\n",
              "      <td>Illinois</td>\n",
              "      <td>Central Time (US &amp; Canada)</td>\n",
              "    </tr>\n",
              "    <tr>\n",
              "      <th>3</th>\n",
              "      <td>568928195581513728</td>\n",
              "      <td>negative</td>\n",
              "      <td>Southwest</td>\n",
              "      <td>NaN</td>\n",
              "      <td>amccarthy19</td>\n",
              "      <td>NaN</td>\n",
              "      <td>0</td>\n",
              "      <td>@SouthwestAir @dultch97 that's horse radish 😤🐴</td>\n",
              "      <td>NaN</td>\n",
              "      <td>2015-02-20 16:20:26 -0800</td>\n",
              "      <td>NaN</td>\n",
              "      <td>Atlantic Time (Canada)</td>\n",
              "    </tr>\n",
              "    <tr>\n",
              "      <th>4</th>\n",
              "      <td>568594180014014464</td>\n",
              "      <td>negative</td>\n",
              "      <td>United</td>\n",
              "      <td>NaN</td>\n",
              "      <td>J_Okayy</td>\n",
              "      <td>NaN</td>\n",
              "      <td>0</td>\n",
              "      <td>@united so our flight into ORD was delayed bec...</td>\n",
              "      <td>NaN</td>\n",
              "      <td>2015-02-19 18:13:11 -0800</td>\n",
              "      <td>NaN</td>\n",
              "      <td>Eastern Time (US &amp; Canada)</td>\n",
              "    </tr>\n",
              "  </tbody>\n",
              "</table>\n",
              "</div>"
            ],
            "text/plain": [
              "             tweet_id  ...               user_timezone\n",
              "0  567900433542488064  ...      Atlantic Time (Canada)\n",
              "1  569989168903819264  ...  Central Time (US & Canada)\n",
              "2  568089179520954368  ...  Central Time (US & Canada)\n",
              "3  568928195581513728  ...      Atlantic Time (Canada)\n",
              "4  568594180014014464  ...  Eastern Time (US & Canada)\n",
              "\n",
              "[5 rows x 12 columns]"
            ]
          },
          "metadata": {
            "tags": []
          },
          "execution_count": 4
        }
      ]
    },
    {
      "cell_type": "code",
      "metadata": {
        "colab": {
          "base_uri": "https://localhost:8080/"
        },
        "id": "voSss49h5OhJ",
        "outputId": "9d5a1bab-234c-4874-ef36-693afd3cf551"
      },
      "source": [
        "train.columns"
      ],
      "execution_count": 5,
      "outputs": [
        {
          "output_type": "execute_result",
          "data": {
            "text/plain": [
              "Index(['tweet_id', 'airline_sentiment', 'airline', 'airline_sentiment_gold',\n",
              "       'name', 'negativereason_gold', 'retweet_count', 'text', 'tweet_coord',\n",
              "       'tweet_created', 'tweet_location', 'user_timezone'],\n",
              "      dtype='object')"
            ]
          },
          "metadata": {
            "tags": []
          },
          "execution_count": 5
        }
      ]
    },
    {
      "cell_type": "code",
      "metadata": {
        "colab": {
          "base_uri": "https://localhost:8080/",
          "height": 265
        },
        "id": "7mph3N9F5Oli",
        "outputId": "23def122-17c0-4807-beb0-2199a2985b32"
      },
      "source": [
        "train.airline.value_counts().plot(kind='pie', autopct='%1.0f%%')"
      ],
      "execution_count": 6,
      "outputs": [
        {
          "output_type": "execute_result",
          "data": {
            "text/plain": [
              "<matplotlib.axes._subplots.AxesSubplot at 0x7f03b1230410>"
            ]
          },
          "metadata": {
            "tags": []
          },
          "execution_count": 6
        },
        {
          "output_type": "display_data",
          "data": {
            "image/png": "[encoded data removed]",
            "text/plain": [
              "<Figure size 432x288 with 1 Axes>"
            ]
          },
          "metadata": {
            "tags": []
          }
        }
      ]
    },
    {
      "cell_type": "code",
      "metadata": {
        "colab": {
          "base_uri": "https://localhost:8080/",
          "height": 265
        },
        "id": "DtE5fgfp8O9j",
        "outputId": "884ed9e9-5c4d-4e8d-83c9-2b410a6519e0"
      },
      "source": [
        "train.airline_sentiment.value_counts().plot(kind='pie', autopct='%1.0f%%')"
      ],
      "execution_count": 7,
      "outputs": [
        {
          "output_type": "execute_result",
          "data": {
            "text/plain": [
              "<matplotlib.axes._subplots.AxesSubplot at 0x7f03af5f4a90>"
            ]
          },
          "metadata": {
            "tags": []
          },
          "execution_count": 7
        },
        {
          "output_type": "display_data",
          "data": {
            "image/png": "[encoded data removed]",
            "text/plain": [
              "<Figure size 432x288 with 1 Axes>"
            ]
          },
          "metadata": {
            "tags": []
          }
        }
      ]
    },
    {
      "cell_type": "code",
      "metadata": {
        "colab": {
          "base_uri": "https://localhost:8080/",
          "height": 256
        },
        "id": "tsCnUqUG8PJP",
        "outputId": "4a0901ae-5086-47ed-c016-c24298884410"
      },
      "source": [
        "train.groupby(['airline', 'airline_sentiment']).airline.count().unstack()"
      ],
      "execution_count": 8,
      "outputs": [
        {
          "output_type": "execute_result",
          "data": {
            "text/html": [
              "<div>\n",
              "<style scoped>\n",
              "    .dataframe tbody tr th:only-of-type {\n",
              "        vertical-align: middle;\n",
              "    }\n",
              "\n",
              "    .dataframe tbody tr th {\n",
              "        vertical-align: top;\n",
              "    }\n",
              "\n",
              "    .dataframe thead th {\n",
              "        text-align: right;\n",
              "    }\n",
              "</style>\n",
              "<table border=\"1\" class=\"dataframe\">\n",
              "  <thead>\n",
              "    <tr style=\"text-align: right;\">\n",
              "      <th>airline_sentiment</th>\n",
              "      <th>negative</th>\n",
              "      <th>neutral</th>\n",
              "      <th>positive</th>\n",
              "    </tr>\n",
              "    <tr>\n",
              "      <th>airline</th>\n",
              "      <th></th>\n",
              "      <th></th>\n",
              "      <th></th>\n",
              "    </tr>\n",
              "  </thead>\n",
              "  <tbody>\n",
              "    <tr>\n",
              "      <th>American</th>\n",
              "      <td>1468</td>\n",
              "      <td>359</td>\n",
              "      <td>251</td>\n",
              "    </tr>\n",
              "    <tr>\n",
              "      <th>Delta</th>\n",
              "      <td>691</td>\n",
              "      <td>535</td>\n",
              "      <td>413</td>\n",
              "    </tr>\n",
              "    <tr>\n",
              "      <th>Southwest</th>\n",
              "      <td>870</td>\n",
              "      <td>512</td>\n",
              "      <td>435</td>\n",
              "    </tr>\n",
              "    <tr>\n",
              "      <th>US Airways</th>\n",
              "      <td>1678</td>\n",
              "      <td>277</td>\n",
              "      <td>197</td>\n",
              "    </tr>\n",
              "    <tr>\n",
              "      <th>United</th>\n",
              "      <td>2011</td>\n",
              "      <td>517</td>\n",
              "      <td>400</td>\n",
              "    </tr>\n",
              "    <tr>\n",
              "      <th>Virgin America</th>\n",
              "      <td>133</td>\n",
              "      <td>127</td>\n",
              "      <td>106</td>\n",
              "    </tr>\n",
              "  </tbody>\n",
              "</table>\n",
              "</div>"
            ],
            "text/plain": [
              "airline_sentiment  negative  neutral  positive\n",
              "airline                                       \n",
              "American               1468      359       251\n",
              "Delta                   691      535       413\n",
              "Southwest               870      512       435\n",
              "US Airways             1678      277       197\n",
              "United                 2011      517       400\n",
              "Virgin America          133      127       106"
            ]
          },
          "metadata": {
            "tags": []
          },
          "execution_count": 8
        }
      ]
    },
    {
      "cell_type": "code",
      "metadata": {
        "colab": {
          "base_uri": "https://localhost:8080/"
        },
        "id": "bB6-Nswh8PPz",
        "outputId": "d3a1e0c4-9162-4c4e-f2b5-603421cb992d"
      },
      "source": [
        "features = train.iloc[:, 7].values\n",
        "labels = train.iloc[:, 1].values\n",
        "features, labels"
      ],
      "execution_count": 9,
      "outputs": [
        {
          "output_type": "execute_result",
          "data": {
            "text/plain": [
              "(array(['@SouthwestAir I am scheduled for the morning, 2 days after the fact, yes..not sure why my evening flight was the only one Cancelled Flightled',\n",
              "        '@SouthwestAir seeing your workers time in and time out going above and beyond is why I love flying with you guys. Thank you!',\n",
              "        '@united Flew ORD to Miami and back and  had great crew, service on both legs. THANKS',\n",
              "        ..., '@usairways the. Worst. Ever. #dca #customerservice',\n",
              "        '@nrhodes85: look! Another apology. DO NOT FLY @USAirways',\n",
              "        '@united you are by far the worst airline. 4 plane delays on 1 round trip flight. How is that possible.'],\n",
              "       dtype=object),\n",
              " array(['negative', 'positive', 'positive', ..., 'negative', 'negative',\n",
              "        'negative'], dtype=object))"
            ]
          },
          "metadata": {
            "tags": []
          },
          "execution_count": 9
        }
      ]
    },
    {
      "cell_type": "code",
      "metadata": {
        "id": "lUClRGa-AxHH"
      },
      "source": [
        "processed_features = []\n",
        "\n",
        "for sentence in range(0, len(features)):\n",
        "    # Remove all the special characters\n",
        "    processed_feature = re.sub(r'^@\\S+', ' ', str(features[sentence]))\n",
        "\n",
        "    # Removing airlines mentioned\n",
        "    processed_feature = re.sub(r'\\W', ' ', processed_feature)\n",
        "\n",
        "    # remove all single characters\n",
        "    processed_feature= re.sub(r'\\s+[a-zA-Z]\\s+', ' ', processed_feature)\n",
        "\n",
        "    # Remove single characters from the start\n",
        "    processed_feature = re.sub(r'\\^[a-zA-Z]\\s+', ' ', processed_feature) \n",
        "\n",
        "    # Substituting multiple spaces with single space\n",
        "    processed_feature = re.sub(r'\\s+', ' ', processed_feature, flags=re.I)\n",
        "\n",
        "    # Removing prefixed 'b'\n",
        "    processed_feature = re.sub(r'^b\\s+', '', processed_feature)\n",
        "    \n",
        "    # Removing decimals\n",
        "    processed_feature = re.sub(r'\\d+', '', processed_feature)\n",
        "\n",
        "    # Converting to Lowercase\n",
        "    processed_feature = processed_feature.lower()\n",
        "\n",
        "    processed_features.append(processed_feature)"
      ],
      "execution_count": 10,
      "outputs": []
    },
    {
      "cell_type": "code",
      "metadata": {
        "colab": {
          "base_uri": "https://localhost:8080/"
        },
        "id": "faapjz2fRhBK",
        "outputId": "53ae273f-d662-45f4-d00e-18532c5abb37"
      },
      "source": [
        "processed_features"
      ],
      "execution_count": 11,
      "outputs": [
        {
          "output_type": "execute_result",
          "data": {
            "text/plain": [
              "[' am scheduled for the morning  days after the fact yes not sure why my evening flight was the only one cancelled flightled',\n",
              " ' seeing your workers time in and time out going above and beyond is why love flying with you guys thank you ',\n",
              " ' flew ord to miami and back and had great crew service on both legs thanks',\n",
              " ' dultch that horse radish ',\n",
              " ' so our flight into ord was delayed because of air force one but the last flight to sbn is at    mins from now we just landed ',\n",
              " ' why did you load us in this flying sardine can if you knew the pilots were  hours late flight incompetent beyond belief',\n",
              " ' that is stock response delays not as frustrating as poor cust serv amp being told by  ppl to wait amp they come back but did not ',\n",
              " ' that be nice hoping to rack up enough miles to take trip to seattle and enjoy perfect latte in the city of coffee ',\n",
              " ' frankly worse customer service ever problems will happen how you deal defines company never again united ',\n",
              " ' yeah haha never been in one it expensive and we will so much fun destinationdragons',\n",
              " ' mco gt dca flight almost full of people screwed by the msy dca cancelled flightation united and usairways didn cancelled flight swa mistake ',\n",
              " ' what the easiest way to get ticket receipt can get one at check in or can get one online thanks ',\n",
              " ' love the changes in the lounge cheese veggies olives in addition to the crackers and snack mix ',\n",
              " ' receive bad customer service and ended up spending several hundred dollars to accommodate my family during each cxl flight',\n",
              " ' you re killing me sche flight to board  min after mine arrived with gate on other side of airport genious',\n",
              " '  weeks to refund this ticket  totally unacceptable fix this or ll put it on blast on social media and tv',\n",
              " ' no private msg me and will provide details really need customer svc training for your staff',\n",
              " 'can you not rt jetblue our fleet on fleek http co gialyl',\n",
              " ' any info on why flight  from sju to jfk is already delayed    hours ',\n",
              " ' ve tried no less than  times today to get in touch with your service desk beginning at   est m having no luck help ',\n",
              " ' new problem had wrong last name on reservation which is airways fixed new can get through tsa',\n",
              " ' any possible chance of swa bringing back service between lga bwi it would make it much easier to connect to the west coast ',\n",
              " ' americanair who runs the show at the airport have boarding pass says us airways and have to wait in american line yousuck',\n",
              " ' computers are down but you stopped giving updates and took my flight info off the app that just ridiculous keep people updated ',\n",
              " ' good fly united businessfirst',\n",
              " ' am flying from msp to dxb my child will turn  during the trip do have to buy return ticket for my child ',\n",
              " ' loves cancelled flightling tickets and not telling their customers flyunited',\n",
              " ' in ord waited  min after crew members left before gate items came flight attendant sarcastically said good luck and walked away ',\n",
              " ' jason  at gate  in san made my afternoon southwestairlines stellarservice thanks ',\n",
              " ' everything for sorted out thanks for the help excited to get home tonight ',\n",
              " ' understand the weather but would be nice to hear an apology on the phone when you moved my flight to an inconvenient day',\n",
              " ' and thanks ',\n",
              " ' it been booked into first class with curbside delivery  hours from now m counting on it teamusa',\n",
              " ' oh that totally looks on par with americanair admirals club any way you can slide us couple passes ',\n",
              " ' we ve  official complaints signed by americanairlines lima supervisor customer relations pls compensate  the  hour delay',\n",
              " ' but the  hour policy when called and they said didn report it soon enough what would have changed if had noticed sooner ',\n",
              " ' the most frustrating flying experience one continuous dunno what time you will leave today dunno that code for ',\n",
              " ' hi just got message that part of my flights is cancelled flightled can rebook online and nobody answers my phone call help me',\n",
              " ' need updates on my flights  amp  have been on hold for over  hours ',\n",
              " ' m supposed to fly through dallas can you help me get new itinerary ',\n",
              " ' so you fail again flight to rdu sitting waiting on flight attendants your logistics are not good',\n",
              " ' am impressed with your super fast reply to cgjase',\n",
              " ' no don spoke with baggage contact at   number said they will try to get bags to stay at iad for pick up tmrw',\n",
              " ' who intentionally buys flight with  hour layover and what kind of airline would charge  to fix it wow usairways',\n",
              " ' do you do auto callbacks so don have to wait on hold ',\n",
              " ' can get your service desk at iad ',\n",
              " ' your blue helped bring out the color of my eyes and promise didn eat all the free snacks ',\n",
              " ' yes y from therealaviation on instagram ',\n",
              " ' did not report the updated info don know how to reach them without super long wait on hold at your main number ',\n",
              " ' want to enter the family pooling contest it says by   on the website can please enter still ',\n",
              " ' and that you can choose the same seat for free after clicking  buttons ',\n",
              " ' plus what about food and taxis ',\n",
              " ' hrmin right now any end in sight ',\n",
              " ' you re really going to let delta and virginamerica get the best of you http co vudwjmlyb',\n",
              " ' claims flight cancelled flighted due to weather at destination but delta has not cancelled flighted flight on same route ',\n",
              " ' thanks so much for help us r amazing ',\n",
              " ' haha did they said it wasn their fault somehow you guys a joke',\n",
              " ' your customer service is inferior to that of nationalized third world nation airline get it together ',\n",
              " ' why does your iphone app not have any sort of notifications option ',\n",
              " ' thank you ',\n",
              " ' ve been trying to reach your customer service for two days have received zero response never traveling aa again ',\n",
              " ' flight  agent now wandered off pilots came out looking for her went to charge her personal phone which she been txting on',\n",
              " ' first you lost all my bags now you cancelled flight my flight home  min wait to talk to somebody poorservice notgoodenough',\n",
              " ' sat on plane for  hrs on   then we finally took off ',\n",
              " ' anywhere http co fefhpmfple',\n",
              " ' have to spend more than the cost of the flight just to get free room and transportation to and from the airport',\n",
              " ' understand the weather these kids need to get home nice kids doing volunteer work from ri high school please help',\n",
              " ' my friend needs some help on her flt she not on twiiter can dm you her info ',\n",
              " ' my mom flight tomorrow cancelled flighted no notice phone system said callback in  hours and it been  need to go to bed ',\n",
              " ' flight veers off icy runway at dfwairport most dfw flights cancelled flighted mon http co qpownuv cowboycerrone figures right ',\n",
              " ' could you tell me if this bag would be accepted as personal item can bring one carry on bag plus this http co uczplhl',\n",
              " ' yo you need new website really badly this day and age ',\n",
              " ' theellenshow imaginedragons kdepetro what great first night destinationdragons http co nlrfouay',\n",
              " ' right on up up amp away ',\n",
              " ' now about two dozen back in line to see single csr for reflight booking problems final leg kiosks on fritz ',\n",
              " ' why would you charge money to transfer points to someone ',\n",
              " ' is it possible to earn dividend miles for passenger that is not me even if am purchasing the tickets ',\n",
              " 'lmfaooo jetblue our fleet on fleek http co grnmyuqe ',\n",
              " ' is there phone line to call into that isn being affected by bad weather trying to book vacation here ',\n",
              " ' have never seen such incompetency from gate agent in years of business travel dfw b gate agent needs training or new job',\n",
              " ' f den phx impressive lack of concern by hr late flight flight attndt wrecking havoc on customer travel smugsmirk norush',\n",
              " ' have clients with an  hr layover at iah during the day will they have to claim amp recheck luggage or will it be taken care of ',\n",
              " ' even so change could not be made online instructed to call an agent maybe the syastem should allow agents  link passengers ',\n",
              " ' you can claim weather with your hardworking crew pulling seats out of plane do the right thing but we both know you won t',\n",
              " ' finally called can get met seattle so refund will be processed thanks',\n",
              " ' just played the most bizarre safety video ve ever seen http co hlmoksxl',\n",
              " ' m not sure did the messaging part right please let me know if you received it ',\n",
              " ' booked the th save me an emergency exit gotta stretch out',\n",
              " ' do you not try to get customers to their destinations no help to get on another airline if you had no flights for  days ',\n",
              " ' no did not catch his name am sure jason will know ',\n",
              " ' yet another delay missed connection and your customer service has an attitude with me wow ',\n",
              " ' no access to dividend miles and for week the automated phone keeps telling me to call back late flightr frustrated livepersonplease',\n",
              " ' when will direct flights from belfast intl to newark resume from their winter break thanks ',\n",
              " ' lgjwb voluntarily rerouted st leg of journey was in economy and was supposed to be b res agent said she reserve it for me',\n",
              " ' nashville airport has runways open it appears southwest is only airline cancelled flighting flights is this likely to change ',\n",
              " ' no my flight plans have been delayed until tuesday due to your computer crash',\n",
              " ' this is unbelievable thank you so much destinationdragons',\n",
              " ' big surprise nogate waiting for our plane same fucken issues everything fly you fail worstairlineever',\n",
              " ' tough night two  minute calls on hold delayed here in phoenix for two days because of one aircraft not ready not acceptable',\n",
              " ' but it hard to stay upset at someone when they at least try to show remorse ',\n",
              " '  min on hold trying to book award flight because site errors out agents ask for my pin to see platinum availability badbadbad',\n",
              " '  min on hold drove   hours to get my delayed bag just want to pick it up at sju ',\n",
              " ' how do reserve my seat on the aa flight transfer to from ord to evv ',\n",
              " ' to start xdaily embraersa erj flights from chicago flyohare to evansville on jun avgeek',\n",
              " ' flight  from chicago to houston over  hours and no pretzels or peanuts seriously about passed out ',\n",
              " ' left my comment with customer care thanks for contacting me ',\n",
              " ' they held the plane made it ',\n",
              " ' that ok you may keep my  and lose my bag with no info but you no longer have my trust bad way to handle this ',\n",
              " ' is that thestarter ',\n",
              " ' learning about your awesome twitter management today in my social media marketing class keep up the good work sxu phd_mama_',\n",
              " ' dropping the ball again no catering plane switch no gate attendant  hours late flight really nice ',\n",
              " ' good care of their customers if anything happen to then take you delta for getting me back to nyc screw you americanair',\n",
              " ' don think you should help him at all based on his behavior the voucher and cot seem like enough lol ',\n",
              " ' think problem resolution should be decided on your end especially if you like me to continue flying your airline ',\n",
              " ' ve been on hold for  mins and counting cause you charged my credit card for bag but provided no receipt and said error awful',\n",
              " ' great looking forward to your response to my dm then',\n",
              " ' it my st birthday and my sister is coming to celebrate but her flights keep cancelled flighting plz do all you can to get her here ',\n",
              " ' ur employee named van ticket counter in philadelphia extremely rude father trying to get home to sick kid missed flight ',\n",
              " ' horrible experience ever with airline have to reconsider any future flights customer service http co eczhcmmvi',\n",
              " ' for tomorrow some sites show flight  from ewr cancelled flightled is it ',\n",
              " ' like the customer service but  min delay just for connecting passengers seems too long va',\n",
              " ' cutest salt and pepper shaker ever just when think you guys can get any better you just do http co vckeulgj',\n",
              " ' unbelievable that cannot even wait on hold to speak to human being to resolve my issue the system simply hangs up ',\n",
              " ' continues to win ve never missed flight before but nice little quiet gate change made it possible sheesh ',\n",
              " ' we even offered to fly in to another airport and they said they couldn do that no explanation why they can ',\n",
              " ' the phone number the gate gave me doesn work either what is your customer service phone number ',\n",
              " ' flight  to savannah ga',\n",
              " ' yes but you are still human hope dealing with all the horror stories people share complained to dot everyone should',\n",
              " ' they are now being sent off the plane does anyone at jetblue have clue ',\n",
              " ' do you have all winners for imaginedragons destinationdragons',\n",
              " ' quick serious question any resources ratings showing the quality of service is better than th place http co dewithpew',\n",
              " ' can you not get the first flight of the day off the ground on time  let go ',\n",
              " ' southwestair southwest mobile boarding passes now available in ios passbook http co xmrvrlgeg http co wjocfsu tori_leggieri',\n",
              " ' m stuck in fort lauderdale ',\n",
              " ' clear that folder regularly and jetblue is white listed so it never got to me ',\n",
              " ' keep the flights cheap and early on time and you are good flew americanair and cancelled flightled my flight  times last month united gt ',\n",
              " ' believe it irina on the flip side super disappointed that eatup cafe isn available on this bos gt sfo flight today ',\n",
              " '  that the flight was placed on after original flight to charlotte was cancelled flightled now  is on hr delay',\n",
              " ' the captain turned off the seat belt sign so people can get up and walk around that not good ',\n",
              " ' now what http co hpsqvrjk flight was gone when got off plane businesstravel goodenoughmother',\n",
              " ' call me chairman or call me emerald after what you did today to me you can call me former customer ',\n",
              " ' we saw one he was as useless as the tsa agents who inspected my shoes',\n",
              " ' thank you for your response ',\n",
              " ' no one received text alerts automated calls anything either literally no information as to what was happening ',\n",
              " ' made it send bloody mary to row  ',\n",
              " '  gate changes two delays even the crew thinks the airline sucks',\n",
              " ' thank you for your empathy there is more to this story than just the luggage but thank you for reaching out',\n",
              " ' thanks jb actually as birder love them too they just need to be outside it shouldn be too hard to trap and move them ',\n",
              " ' flt  clt to day supposed to depart   the   still no crew schedule contact the pilot ',\n",
              " ' to allow payment by apple pay patriarc http co bduauzfhw',\n",
              " ' and now your rep just hung up on me after over  mins on hold because asked for supervisor m furious right now ',\n",
              " ' no you re not you re trying to book me past when need  arrive but you re still selling seats on the day m trying  travel',\n",
              " ' americanair seriously with all the service issues you are having right now this is what you decide to tweet unbelievable',\n",
              " ' will do also passed the website around to other passengers ',\n",
              " ' clicked on the link and got this confused http co xmaqcucwzl',\n",
              " ' well we cleared customs in auh need to get to iah after arrive in dfw is it possible to retrieve my luggage in iad ',\n",
              " ' taylorlumsden taylor gotta love swa responsiveness at the very least huh ',\n",
              " ' flights been cancelled flightled can get through to the desk and nothing showing online under my reservation what do do ',\n",
              " ' usairways m pregnant with twins and you re going to abandon me overnight in an airport no hotel when it your fault ',\n",
              " ' thanks for prompt response another hour to enjoy vacation perhaps bug in the app as it still shows   ',\n",
              " ' tried that cannot figure out where to go to get it ',\n",
              " ' except all of that delayed the flight anyway ',\n",
              " ' get flight  into the air',\n",
              " ' let me assure you my travel time is hm not hm timezones accuratetraveltimes rdtimethishashappened http co ecbicf',\n",
              " ' thanks will catch my conection ',\n",
              " ' jetblue our fleet on fleek http co ajmbhjvaa foh',\n",
              " ' am all about the in flight artisanal cheese and wine pairing ',\n",
              " ' flight ua been sitting on tarmac for  mins with no report as to why any input ',\n",
              " ' sits on throne of lies',\n",
              " '  flights cancelled flightled today now we have been on hold for over an hour ',\n",
              " ' late flightly you ve always been late flight please get back to the old swa ',\n",
              " ' my ex boyfriend picks up my calls more than you do cancelled flightedflight nocustomerservice americanairlines fail',\n",
              " ' would do anything for tickets to the vegas anything love imagine dragons so much ',\n",
              " ' thanks for your attention ve been flying southwest for  years and haven had this issue in the past ',\n",
              " ' never let me down every single flight gets delayed ',\n",
              " ' me and my wife will be flying out of atlanta to vegas on march th since couldn get any out of tricities here in tn',\n",
              " ' flight ua got delayed  hours due to mechanical issue could use free drink or  to make up for this inconvenience',\n",
              " ' dream http co oadrfaoq http co lwwdackhx',\n",
              " ' m in line at the airport right now will you cover hotel fair or am to sleep in the airport ',\n",
              " ' don know no one would tell me where they were coming from would guess so as that where we had all the changes to flights',\n",
              " ' no worries you re swamped know just dmd back thank u',\n",
              " ' forgot to put my tsa pre number in before checked in it is now in my profile but will it be on my boarding pass in the am',\n",
              " ' have five people shown up yet',\n",
              " ' ve never had anything bad to say until now no love for faithful customers ',\n",
              " ' hello are flights taking off from dallaslovefield airport this noon am supposed to travel on flight  to san antonio',\n",
              " ' love and appreciate the fact that you guys rarely cancelled flight flights and are on time but need cancelled flightlation this time ',\n",
              " ' connection is us',\n",
              " ' all good man it isn your fault that plane is having maintenance issues',\n",
              " ' while m sensitive to this fact don believe that warrants poor service little help amp compassion goes long way ',\n",
              " ' all your online resources say we re on time but clearly we are not this is not very information age of you ',\n",
              " ' you make it hard to fly with you delayed over an hour and now the plane is turning around amp heading back to the gate connection ',\n",
              " ' your people are kind and hardworking the infrastructure you have given them is horrid massivefail failphone fail',\n",
              " ' thanks her th bday is saturday we re having an aviation themed surprise party for her ',\n",
              " ' airways reveals bluemanity livery travelpulse http co fttfyfmvco',\n",
              " ' josephtreis dont bother they dont pick up the phone worst customer service going',\n",
              " ' are you expecting any delays out of dfw tomorrow morning ',\n",
              " ' flight  is not leaving at   because we haven even begun to board yet please update your website asap',\n",
              " ' what an incredibly arrogant thing to say while sit here at hare waiting for your incompetent airlines to refuel on ',\n",
              " ' airline trouble this winter amp not getting good customer service contact http co aqjnhwnac we negotiate resolutions for you ',\n",
              " ' thankful for great service in newark seats fixed and was seated with my daughter fab landing in fort myers ',\n",
              " ' feeling like true united customer stuck on the tarmac in dc for over  hrs unitedfail',\n",
              " ' it is cool your customer told me they didn care either it is expected',\n",
              " ' when does today scavenger hunt start m trying to help my little brother win destinationdragons',\n",
              " ' lt lt lt lt lt shoddy customer service of no use whatsoever unitedairline',\n",
              " ' any option for luggage assistance on the ground at hpn flight  delayed  hours amp we will have  sleeping kids when we land',\n",
              " ' dm you',\n",
              " ' yep used that twice no case id numbers assigned just tried it again get screen that says thank you for submitting your request ',\n",
              " ' you guys did an amazing job today know it hard thanks to kate appleton for all her hard work reflight booking problems my friends and me ',\n",
              " ' you really need some customer service training for your unhappy ees in the morning in chicago gate k at  chking her schd',\n",
              " ' your employees were great ',\n",
              " ' souljacoy what is aa going to do to fix their utterly embarrassing customer service you won even answer the dang phone ',\n",
              " ' please bring back rdu to fll direct route noticed it is missing starting in late flight august the flights are always packed ',\n",
              " ' doesn want me to get home',\n",
              " ' the phone line disconnects how can be in the queue to be answered when the phone line simply disconnects when call ',\n",
              " ' m sitting on the plane too many predictable mechanical problems still onboard this is getting bad ',\n",
              " ' shivadelrahim what about upgrades ',\n",
              " ' never received such horrible service or treated so poorly as richard today no excuse for attitude amp ripping up our tickets ',\n",
              " ' how do get copy of my last flight showing original time and delay need it for work thanks ',\n",
              " ' can we get honest update on departure of flite  been on plane with infant children',\n",
              " ' us  wait now gate opened back we go good maybe we can get off ',\n",
              " ' how do you not do maintenance on md while it sits for two days frozen lines found after its boarded come on faail mci',\n",
              " ' is seriously the worst don remember the last time or someone knew had flight that wasn delayed cancelled flightled etc ',\n",
              " ' wont transfer flight ticket to accompany an  yr old who active military mom had to have emergency brain surgery wow ',\n",
              " ' ticket counter people here are not helping and just want to charge more money even after this horrible day ',\n",
              " ' on  seg flt yvr to zurich why would you credit all miles and but only  segs on full fare ',\n",
              " ' just need to know why it wasn done like it was promised it would yesterday',\n",
              " ' kudos and we re done and heading to warmer weather ',\n",
              " ' why are yall trying to fly me to chicago when don live there send me home now bullshit ass customer service',\n",
              " ' we have to stay in chicago overnight and meet up with our bags there hope they stay put and don get put on flight ',\n",
              " ' severely under staffed at iah ',\n",
              " ' fantastic thanks will try and tweet photo of the view ',\n",
              " ' love my companion pass qualified th year hollymais',\n",
              " ' said that aa does not provide in flight wifi on the routes to china based on some federal laws but united does why is that ',\n",
              " ' boarding passes now compatible with iphone passbook http co esmmnizek',\n",
              " ' what disaster flight  missed passenger count by  since it was done manually really ',\n",
              " ' suck big donkey balls ',\n",
              " ' thanks confirmation number just dmed appreciate any help ',\n",
              " ' shouldn be made to feel like criminal because want to sit near my  year old on flight jetblue http co qgtcaoju',\n",
              " ' we ve already made other arrangements ourselves ',\n",
              " ' cannot add my frequent flyer number on your website can you help ',\n",
              " ' my ticket was booked   to cun does the arrival time reflect that cun is now on est time ',\n",
              " ' there are lot of unhappy cold people on the bridge in freezing temps for an hour not given any info ',\n",
              " ' we love to help shanese bryant melton hard working grandmother from dc go to miami it on her bucket list flyitforward',\n",
              " ' want to book multi city fare have miles for of  flights an option to pay for st flight with miles nd with ump visa thanks ',\n",
              " ' when will email address username sign on be available it been while ',\n",
              " ' yes ve been waiting for four hours and no one has been able to help me ',\n",
              " ' will thank you what do do if can get through and my flight on hold cancelled flights ',\n",
              " ' flight scheduled for pm told at am that flight is cancelled flightled after sitting on cold plane for  hours ',\n",
              " ' yes there were plenty of seats available so why did vicky thomas refuse to give one to million mile flyer ',\n",
              " ' ua from madrid arrived no agent mass confusion we sent to and fro by  ua employees maryjo was rude and unhelpful ',\n",
              " ' americanair terminal in miami is still the worst most smelly airport ever thanks for nothing ',\n",
              " ' great decision making skills flight ops iah bag makes  minute connection and don flight pushed early disappointed ',\n",
              " ' when checked yesterday it looked like it did did something change ',\n",
              " ' no it weighed   and it was the only checked bag',\n",
              " ' when check online it states status closed what does this mean as have yet been able to reach live person ',\n",
              " ' you asked me to dm then ignore them please assist in changing to another flight today  feb fra to mco avoiding iad ',\n",
              " ' americanairlines on approach to mex http co sedmjhiw',\n",
              " ' amp finally he was told he couldnt use the front of plane restrm he was row though myself others in rows behind him used no issue',\n",
              " ' any earlier flights sap gt mia amp mia gt new york lga on   m currently booked on flights  and  ',\n",
              " ' last night we waited forever at the gate because someone from corporate dispatch forgot to call the crew unfriendlyskies',\n",
              " ' seriously it  no wifi on hr flight from cle sfo  you re the only airline without wifi ',\n",
              " ' you told me you changed my flight and im in the ottawa airport and ac cant find my reservation whats wrong with you',\n",
              " ' jetblue analystdoc unfortunately that not an available option with our current system sorry guys that a certain fail fix it plz ',\n",
              " ' don need your apologies need my bag took  minutes from landing to get it unacceptable ',\n",
              " ' see photo of b scale model amp our pn a wheel deflator specified in chapter  of b amm http co kfdwqrklw',\n",
              " ' flying out of stl saturday where they are expecting ice amp snow when should we start looking for travel waivers thanks ',\n",
              " ' thanks for getting back to me but will find other airlines in the future ',\n",
              " ' you know it need it on my spotify stat guiltypleasures',\n",
              " ' will be patient in my luxurious middle seat on my next delayed flight',\n",
              " '  hours on tarmac in charleston and still can get response after week unacceptable',\n",
              " ' what happened to your customer service  cancelled flightled flights in  days amp an uninformed and unapologetic staff nolove cali',\n",
              " '  from sfo to hnl with zero entertainment systems youareonyourown',\n",
              " '  is overweight so you pull  dozen passengers off why not luggage seriously ',\n",
              " ' disappointed that my flight back to boston from pr was cancelled flightled rebooked  the next day delayed that one too and no compensation',\n",
              " ' have better customer service at john wayne airport ',\n",
              " ' after waiting for delayed plane we sat on the plane for an hour waiting for late flight passenger that bs too ',\n",
              " ' as it always is helps to communicate to customers ',\n",
              " ' you re customer service is unbelievably bad abysmal ve been on the phone for well over hrs tonight hung up on by yr ppl x ',\n",
              " ' rd time flying southwest in two years have another trip back to mx on october ',\n",
              " ' priority baggage evidently means it comes out last',\n",
              " ' did mention one bag is an infant car seat amp we ve been stuck with yr poor replacement on icy mtn roads',\n",
              " ' just did thanks for checking ',\n",
              " ' understand that but m not even being put on hold it says try again late flightr goodbye ',\n",
              " ' why won check my carry on watched handler throw this bag miss the conveyer belt sat there  min http co lyoocxmsh',\n",
              " ' you rerouted my bf flight and he diabetic with little insulin even though we tried to change it the agent wouldn do it',\n",
              " ' there a lot of talks and no doing mia sfo on  year old plane nonewplanes old shame http co twetpxuppn',\n",
              " ' flight to dca need to change asap help can get through',\n",
              " ' all these changes way to stick it to your premiere k loyal customers why make things harder for those that loyal to you ',\n",
              " ' ok know doors close  minutes before takeoff stop telling me my flight will leave in  minutes when we haven boarded ',\n",
              " ' hope not to see the same issue on my return flight tomorrow',\n",
              " ' customer service ',\n",
              " ' my wife sick yr old twins and have been waiting in line now for hrs to see an agent phone agent said nothing til tuesday ',\n",
              " ' ruining vacations left and right who would have thought an airline can cancelled flight tickets without telling the buyer',\n",
              " ' guys we ve got to do something about the inability to check in online for international flight that has   ',\n",
              " ' seriously flight delay cinci to philly due to new ground staff miss connection to man uk and now have to argue for hotel wtf',\n",
              " ' this is the line in denver to rebook due to weather issues do better http co tmccexyaaq',\n",
              " ' how do redeem my pass to the admirals club have  free visit with my barclay card membership and can bring companion ',\n",
              " ' failingyourcustomer one by one',\n",
              " ' you guys continue to impress your crew mco gate helped our family with seat issues professional',\n",
              " ' doesn charge ticket change fees do they not incur the same mysterious costs that you incur united ',\n",
              " ' how can you not be taking calls need to change my flight ',\n",
              " ' flight  sitting fully loaded for over an hour air conditioning barely working ',\n",
              " ' dropping passengers with small baby and  infants at your san juan terminal as unloading baby officer writes me ticket for ',\n",
              " ' continue to be amazed by the amazing customer service thank you swa ',\n",
              " ' hilarious flight attendants on vegas to detroit tonight http co nwvxdgmf',\n",
              " ' are you people cruel or just stupid why are you posting my personal email on the damn internet have lost your mind ',\n",
              " ' narrowly made standby lots of snags this trip ',\n",
              " ' thank you thankful feelingtheluv',\n",
              " ' took flight yesterday fron tpa dfw aus bag went to iah today bag went to iah dfw and then back to iah still no bag ',\n",
              " ' now down to only one agent helping stagnant line of almost  customers super ',\n",
              " ' do you have pair of tickets to the imaginedragons show in atlanta d love to go destinationdragons',\n",
              " ' got duped a connection on st flight sneaky now won give me seat on an earlier flight availability shameful',\n",
              " ' is really gonna hear my mouth about this bag situation ',\n",
              " ' what is your phone number can find who to call about flight reservation ',\n",
              " ' thanks it would be better from the gate agent at c in charlotte boarding flight  ',\n",
              " ' its always pleasure ',\n",
              " ' usairways disappoints again cancelled flighted flights missed appointments promised refund is lie',\n",
              " ' can get anyone to deal with me in person cowardly customer service can be looked in the eyes by anyone ',\n",
              " ' is there something wrong with the website no matter what flight select it says it no longer available ',\n",
              " ' after multiple attempts was finally able to submit them late flight last night ',\n",
              " ' broke the stroller my wife and baby gate checked they told her it not their problem calling the list preferred line now ',\n",
              " ' unfortunately no but hoping can catch one sometime in the near future ',\n",
              " ' you mean take more of my time to write you physical letter because the fraud department doesn have email or telephones right ',\n",
              " ' trip cut  hrs short due to flight change massive layovers no peanuts or crackers asked for ho and received about oz ',\n",
              " ' can you please follow for dm on missing bag ',\n",
              " ' please secure the footrest shelf in business class on a airplanes http co zlbvexmcj',\n",
              " ' maryella_green just received it actually thank you ',\n",
              " ' amagrino will you cover the cost of my car service waiting time ',\n",
              " ' now you ve cancelled flightled my flight first priority ticket bumped and now this you re losing customers people are furious ',\n",
              " ' americanair can you connect me to person without having to wait  hours on hold still haven been able to resolve the problem ',\n",
              " ' they re all reservations numbers and none are in hungary and my phone not working here you make it too difficult ',\n",
              " ' we checked in right at hr mark boarding group with kids ages  amp  dnt want to be split what sld we do ',\n",
              " ' m on flight and no booze being served  min in what gives lostrevenue angryandsober bachelorpartymishap',\n",
              " ' sweetmel if weather is bad wouldn your folks try extra hard to communicate or load bags onto flight  or anything ',\n",
              " '  about  flights all using same gate buses to the planes awful boarding process hour and half late flight',\n",
              " ' the staff was rather efficient and got us solutions just freaked me out little being in limbo in the air ',\n",
              " ' flight from vegas to houston cancelled flighted this morning due to operation what does this mean thank god woke up early today ',\n",
              " ' phl why does it take an hour to offload bags especially after taking  min to get jetway to get off plane after landing ',\n",
              " ' d like to apologize to the gate agent for flight aa was not aware that zone  was after the nine other precious gems ',\n",
              " ' hrs late flightr get call back and immediately disconnected',\n",
              " ' won waive  fee due to neptune can use credit o paying fee couldnt get to destination to use their tic waivethefee',\n",
              " 'is it insulting that usairways americanair offer non required  voucher as goodwill offering at least my bag can fly round trip',\n",
              " ' can even use my return flight home because the change fees you charge are too expensive forcing me to purchase new ticket ',\n",
              " ' m rebooked now but the line was  people deep ',\n",
              " ' cust serv reps who are unable to change reservations in your system check in unaware of cancelled flights that got word on night before',\n",
              " ' just give up your service is terrible if wasn forced to use united on certain routes never would ',\n",
              " ' can get any kind of update on the delayed flight from boston to houston at   really need to be back home tonight ',\n",
              " ' was under the impression when there is an  hour delay in your flight because of equipment failure compensation is offered ',\n",
              " ' looks like on february   we will open our schedule for sale through october   know what time that will be ',\n",
              " ' that would be appreciated just please don send me to the same page with long form amp limited characters direct email ',\n",
              " ' do you have an email ',\n",
              " ' diverted and missed our connecting flight was just told that my bag is on it way to msy if you only had people that cared',\n",
              " ' need assistance line is out the door and travelling with  kids ',\n",
              " '  will put together very serious email with all the issues that arose on our vacation due to your staff will post it here',\n",
              " ' upon entering plane to  usairways stewardesses can have some water no we don do that please take your seat ',\n",
              " ' the amount of money spent on hotels for week bc of flight cancelled flightlation another flight doesn make up for the money lost ',\n",
              " ' flight  clt to phl was st on list someone else got spot rude employee in coach wouldt give id said he was cute red head',\n",
              " ' thanks bummer poor planning on my part assume the card in passbook won work either ',\n",
              " ' still crickets from customer service ',\n",
              " ' as k m always hoping for improvement ',\n",
              " ' this merger with usairways usairwis cluster of inefficiency and misinformation when is it going to be done ',\n",
              " ' much respect ',\n",
              " ' really easy for locals to get down to the strip book ',\n",
              " ' charlotte staff needs prayer disappointed in response to mishaps lotttttttt of pissed off people here ',\n",
              " ' on unscheduled aircraft change please have better system in place not worth the paid upgrade refund',\n",
              " ' from the air another missed cnxn day atc went on strike in belize this am now family amp miss cnxn in ewr please see my dms ',\n",
              " ' thanks for being so bad you make two day train trip look appealing ',\n",
              " ' this is getting ridiculous now we re missing our connection ',\n",
              " ' you really should clean the food and coffee stains off of the area around the seats when new passengers come aboard gross ',\n",
              " ' missing flight attendant delayed flight prime example how  person impacts  of people hnl gt iah ua wastedtime',\n",
              " ' americanair call the number listed sure by next friday should get real live person on the line http co tjuumdd',\n",
              " ' change fee same price of new ticket not logical',\n",
              " 'stop this madness rt jetblue our fleet on fleek http co xusbjfv',\n",
              " ' ok have sent info via dm appreciate your help and consideration ',\n",
              " ' service rep didn say was dumb just had the tone of voice like should have known about it ',\n",
              " ' im trying to get my dads wheelchair and no one is answering at dulles we have tried to call back on multiple times',\n",
              " ' ve been on hold for approaching  hrs for an issue when changed my ticket online frustrating ',\n",
              " ' thank you',\n",
              " ' thanks for the effort can get the earliest though will make complaint for refund as am losing one business day tomorrow',\n",
              " ' lack of communication with other offices the customer amp yall never update ur systems guys are  established  this mess',\n",
              " ' as much have paid in fees plus hotel and food because of your changes could had flown with more reliable airline nojetblue',\n",
              " 'seriously want to work on the jetblue social team rt jetblue vincenzolandino http co eigajyzcw',\n",
              " ' right we re delayed so m crabby also why do you allow one family member to purchase earlybird check in and hold rows ',\n",
              " ' you guys suck ',\n",
              " ' thank you but the person in houston could only get me flight routing through newark nj and m going to sfo',\n",
              " ' lost bag in huston we leave for bahamas cruise today from nola and had to buy all new stuff customer service is non existent',\n",
              " ' thx to customer service rep alex for his patient help in reflight booking problems cancelled flighted flight and getting us where we have to be tmrw ',\n",
              " ' is there not faster way to get me to columbia sc than making me stay in clt over night after my delayed flight ',\n",
              " ' highly disappointed in the baggage service with this merge with usairways you guys have lost our st bag and now missing items',\n",
              " ' your list program is complete joke your company does not value loyal customers time to look for another go to airliner',\n",
              " ' understand the need to drain the lavatory fearing freezing but why no policy on checking that before boarding smh come on ',\n",
              " ' and don hope for me having nicer flight some other time try to do things right you sold me those tickets with that connetion',\n",
              " ' thank you thank you thank you my last attempt to win destinationdragons tickets was success could not be happier ',\n",
              " ' hate you for this https co gwwrvbrq',\n",
              " ' and cvgairport get it together perfect combination for delays and cancelled flightlations',\n",
              " ' united you may dislike delays but paid you we had an agreement that paid you and you got me to my destination at certain time ',\n",
              " ' trying to get through to cust relations is there another to use ',\n",
              " ' so yesterday flight wanted to chicago was on sale within my points range and today it isn any way you guys can still honor',\n",
              " ' is it possible to add known traveler number to my ticket after flight booking problems ',\n",
              " ' heyyyy guyyyys been trying to get through for an hour can someone call me please ',\n",
              " ' jetblue our fleet on fleek http co qavvlaxlkl ',\n",
              " ' thanks for the opportunity ',\n",
              " ' disappointed with the missed connection from roc to slc and no reimbursement even tho friend who is pilot said it was due to atc',\n",
              " ' lipstick on pig still pig ur new baggage claim sju is disaster no chairs  mins wait for baggage fail',\n",
              " ' how did my prime ticketed seat get switched on aa  not sure what going on here ',\n",
              " ' jetblue our fleet on fleek http co gsnqsqz no yall better than this',\n",
              " ' that great thank you ',\n",
              " ' as usual my next flight shows on time but it suppose to leave in  minutes and hasn boarded',\n",
              " ' the opal dragon book the dragon ali has woven his murdering ways from the philippines to australia http co cpiosphm',\n",
              " ' what happens if it isn located',\n",
              " ' phone call or email when you cancelled flight flight would be lovely ',\n",
              " ' please thank mellie at cae tammy in baggage claim at clt  excellent customer service day but have complaint ',\n",
              " ' this means within one week will have filed  compensation complaints to your website',\n",
              " ' thanks for your help got me what need but its an issue with _austrian guess sit awhile longer ',\n",
              " ' you airline is doing rather poor right now in slc waiting to take off was suppose to take off now  hours and  minutes ago ',\n",
              " ' three hours on hold then disconnected conf ebhset need to be home sunday for interview',\n",
              " ' what up with flight  no gate agent or plane at phx b nice customer service ',\n",
              " ' unfortunately had bad experience flying with you on saturday inpolite crew bad delays ',\n",
              " ' us  stated their issues as plane not moving as cargo door open on plane umm ok little strange ',\n",
              " ' thanks for trying to take my money without notice in any other industry you cancelled flight service refund is issued cont ',\n",
              " ' can leave the tarmac united gate agent cannot agree on head count  min now counting  people max epicfailunited',\n",
              " ' flight is delayed  hours no reason given sure love flying with your airline whatajoke',\n",
              " ' our vacation going to be ruined  days of rain the change fee for  of us is nearly cost of original flight can you help ',\n",
              " ' any way you can help with entry to vegas event my boyfriend amp have been imaginedragons fans since  they are awesome ',\n",
              " ' just when thought you guys were done messing up you make it worse your airline ruins hopes and dreams ',\n",
              " ' boarded flight  at  am now   still sitting on runway lots fun',\n",
              " ' waited on hold for too long shouldn have to wait on hold forever when never received confirm in the st place help',\n",
              " ' interviewed yesterday as flight attendant was the last person the recruiter said they lost my file came back to interview me',\n",
              " ' item not mine mysteriously ended up in my checked bag after ewr to yow flight missing black box http co sjqemdtqma',\n",
              " ' thank you been trying for two days to set this up ',\n",
              " ' your wifi is shit fix that up before jump out of the closest bloody fucking emergency exit ',\n",
              " ' to jump into the dallas austin market dallas_news http co ewwgigdx',\n",
              " ' don have conference number spoke with courtney in texas and david before that they finally fixed mine after an hour',\n",
              " ' why doesn anyone make better effort to retain customers it should be an easy fix just want to travel aa ',\n",
              " ' the premier desk was able to rebook me with our friends at americanair only problem is now have to pay for checked bag ',\n",
              " ' jetblue our fleet on fleek http co ghabyep smh',\n",
              " ' you guys held our flight  thank you about to take off from mdw now to oakland thanks',\n",
              " ' flight  ord gate agent tried to prevent me from taking onboard bag ve used for  years flight crew was more reasonable ',\n",
              " ' thank you ',\n",
              " ' success made flight please thank the crew of  great time recovery',\n",
              " ' have you considered adding the we ll call you back when we have someone free feature to your support line ',\n",
              " ' vegas was there  days ago miss the warm weather',\n",
              " ' unsmiling rep told us hotel shuttle comes like every  minutes breezy  min late flightr we re taking cab you going to reimburse ',\n",
              " ' can send you my trusted traveler id to add to my reservation for tsa pre ',\n",
              " ' thank you know it a busy for you today but any help would be appreciated ',\n",
              " ' still waiting for bags from flight  it landed an hour ago ',\n",
              " ' st reaccommodation now delayed flight for this one amp the gate agent still hasn mumbled word folks getting anxious ',\n",
              " ' dude named shaquille at the desk in charlotte was incredibly professional and helpful vs some crazy angry people tonight',\n",
              " ' kudos for adding passbook to your app love it ',\n",
              " ' be worse oh you can delayed with no reason on the way to lon flight cancelled flighted with no reason less than  days before returning ',\n",
              " ' find it funny that phlairport responds but you don your customer service is the worst wedontcarebecauseyoupaidalready',\n",
              " ' wtf stuck at jfk for  hrs in delay to boston cuz say snow no snow on weather map wtf ',\n",
              " ' thank you will do you guy are awesome ',\n",
              " ' there is fat man stuck in your airplanes bathroom',\n",
              " ' sorry meant flight  which was supposed to depart at   now says   what is the issue ',\n",
              " ' have received one previously on the th having checked odd as you said there was no complaint associated with my mail ',\n",
              " ' is definitely my new favorite airline ',\n",
              " ' baldordash rebooked arrived  hours late flightr last year  hrs to san diego and the no inflight entertainment ',\n",
              " ' although it wasn totally the answer was looking for appreciate the prompt response ',\n",
              " ' can easily get to the atlanta show just need tickets help ',\n",
              " ' whatever your lil mint heart desires http co wmxfzc',\n",
              " ' message and pics sent ',\n",
              " ' thanks ',\n",
              " ' airport snow removal method  keep up the good work folks this is where cessna become  http co vtmusjvu',\n",
              " ' you have the ability to switch my flight to americanair but you cannot tell me where my bags are ',\n",
              " ' made it to the bahamas for work but my luggage didn i know travel happens but is there anyway can get more help info ',\n",
              " ' will never fly us airways or american again and will share this nightmare of story to all the many others we know who fly',\n",
              " ' delayed  hrs flight  pit iad finally board the plane sit half hour amp crew is at their hrs limit amp we deplane unacceptable ',\n",
              " ' been on hold over  minutes you can fly but not answer the phone ',\n",
              " ' aa  why have you cancelled flightled our flight without courtesy of notifying us or alternatives very poor ',\n",
              " ' usairways nd time this occurred in  weeks m not patient have no choice antitrust issue',\n",
              " ' been on hold to rebook flight to cmh for   hrs your rebook website is crashed ',\n",
              " ' yes fyi my bff',\n",
              " ' what the delay if the system isn down ',\n",
              " ' m trying to check into my  am ct flight tmm on the desktop website and it not working some sort of caching bug sos',\n",
              " ' your beautiful front end design is down right now but it was cool to still book my ticket c all your back end was secure ',\n",
              " ' you ll be hearing from me for sure ',\n",
              " ' annnndddd just booked my flight that was easy ',\n",
              " ' ve been on the line waiting for  minutes again ',\n",
              " ' flt  rsw could have extended the courtsey of waiting min   of us gates closed in faces ur fired',\n",
              " ' last name pordes',\n",
              " ' thanks actually made it my connection flight was delayed guess all delays are not bad thing http co xggcntcom',\n",
              " ' don know who that may be was also working from home thanks for nothing ',\n",
              " ' if know left something on my last flight as literally had to run to make my connection how can retrieve it please ',\n",
              " ' no they offered the flight   paid then they changed it this is the nd time you have done this to me ruins cruise plans',\n",
              " ' so you are saying that customer care does not report to anyone their response is humiliating for company that serves the public ',\n",
              " ' sitting in the middle for the first time hope it works out well',\n",
              " ' airways corporation nasdaq jblu update jetblue says lufthansa markets bureau http co apyzlsquu',\n",
              " ' at least you got response from americanair via twitter went  for  yesterday ',\n",
              " ' please help aa  monday cancelled flightled can you advise on reflight booking problems refund have children and need to make plans now',\n",
              " ' so the seat next to me b on flight  to seattle has tray table that is falling off http co hajlkqjw',\n",
              " ' flight ua gate b and tell ray somehow made it on to the  flight out of iah and didn have to wait for the  one ',\n",
              " ' is the comcast of airlines hrsminonhold',\n",
              " ' americanair jason you ll end up missing your connection please see our dfw agents for assistance nope hasn taken off yet still ',\n",
              " ' now on hold for   hours waiting to speak to someone about my cancelled flightled flight from philly to orl',\n",
              " ' patrichruben no profit maximization is your top priority nothing else even registers for you dinosaurs',\n",
              " ' flying with you in about  weeks bringing blankets bc it freezing ',\n",
              " ' great flight into pvd smallest plane have ever been on and smoothest landing ever ',\n",
              " ' thanks she submitted damaged bag complaint online is there anything else we can do goodcustomerservice',\n",
              " ' but eagle is always late flight',\n",
              " ' looking for status of flight  schedule for   am tomorrow morning thank you',\n",
              " 'hypocrisy rt united gg m sorry we re not able to offer full refund because the exchange rate is not what you were hoping for kp',\n",
              " ' terrible illogical re route after cancelled flightled connection then made me pay to check bag then lost bag ual',\n",
              " ' after speaking to united customer service rep the night before flight confirming that everything is ok with your reservation ',\n",
              " ' good news we got fixed ',\n",
              " ' any word on whether or not flight  from seattle to charlotte will have connections held or ',\n",
              " ' so important to accept others for who they are swadiversity',\n",
              " ' you changed my aadvantage travel plans amp called    to get help but it sea ur too busy amp hangs up on me what gives ',\n",
              " ' everyones flights who were cancelled flightled today deserve ',\n",
              " ' your airway is joke have never dealt with worse service',\n",
              " 'jetblue reading the nytimes jetblue our fleet on fleek http co lvirtdtqly ',\n",
              " ' this is really unhelpful why can i rebook online http co nosvli',\n",
              " ' flight is  full ',\n",
              " '   rock hit the plane in delay now never an easy day with us airways ya never fail to let me down ',\n",
              " ' thank you m excited to fly with you for the first time ',\n",
              " ' gates were definitely not full we were parked and wheels were chocked customer service called it an unmet arrival ',\n",
              " ' can you provide direct assistance my colleague and cannot re book c the ticket was booked via corporate account help',\n",
              " 'aww is it jetblue guess now need to book flight to somewhere warm asap any suggestions ',\n",
              " ' never flying with you guys ever again the customer service is piss poor at best ',\n",
              " 'yes thanks so much united whitterbug we see you spoke with our reservations team and they ve reinstated the flight thanks ey ',\n",
              " ' americanair is there anyone answering phones today listening to same damn messages for   minutes',\n",
              " ' thank you ',\n",
              " ' you are beyond redemption jfk baggage claim looks like luggage warehouse',\n",
              " ' how can you not know after two hours of us sitting on the plane with no bags off loaded the planes weight ',\n",
              " ' deplaned for the rd fucking time fuck you aa ',\n",
              " ' joni did great job on flight  to lax thanks for great flight ',\n",
              " ' m willing to hold for an agent you aren being helpful you keep hanging up on me americanairsucks hiremorepoeple',\n",
              " ' delayed another hour',\n",
              " ' admirals club at clt has rude and ignorant front desk staff americanair you have fallen so far thanks doug parker ',\n",
              " ' it was booked through work but added upgrade on seat need the upgrade receipt ',\n",
              " ' hi janet in customer service m calling you back and have been sitting in que for  mins plz pick it up frustrated',\n",
              " ' my flight has been delayed amp can talk reach anyone in customer service because of high call volume ',\n",
              " ' if miss first leg of ur flight you have to pay hundreds of just to keep your second leg how much to keep my earned miles ',\n",
              " ' on standby to denver which has been delayed and confirmed to aspen whose flights have been cancelled flighted all day  confidence ',\n",
              " ' actually flight  not ',\n",
              " ' any options to cos tonight doesn look like ua will make it in time for ua should reserve hotel room ',\n",
              " ' thanks so much just had to make cancelled flightlation ve sent the info ',\n",
              " ' m aware of the flight details thanks three hours late flight crew that could not give less of shit',\n",
              " ' ua just admit you have no clue when flight will leave denver unfriendlyskies',\n",
              " ' thank you for the jetblue credit nice save ',\n",
              " ' you lost customer today flight today was cancelled flightled and had to find out by calling customer service yesterday ',\n",
              " ' still waiting for flight should get my money back',\n",
              " ' have already emailed but didn know if it was more expedient to contact you here please advise thanks ',\n",
              " ' flight cancelled flightled tried to get refund but on hold can get it after my flight would have departed ',\n",
              " ' thank you for your help resolving my problem shannon rocks even though rhonda didn ',\n",
              " ' still haven received response please direct message me for my contact information ',\n",
              " ' me too in the future have better harsh weather preparedness plan so much of your staff called out that everything snowballed',\n",
              " ' when an airline causes the missed connection would think they would take whatever steps to remedy that screw up ',\n",
              " ' poor old united never seem to get the response right ',\n",
              " ' americanair nvm my bad it been an hour and half thanks',\n",
              " '  thanks',\n",
              " ' know you re dealing with the weather but phlairport is hot mess pls send reinforcements',\n",
              " ' me amp sammi_jons are best friends because of imaginedragons any chance we could get tickets to destinationdragons ',\n",
              " ' thx for responding cant watch  mins of this film out it cutting in and out  prolonged prds of time beyond frustrating',\n",
              " ' you sure missed the mark on tonight redeye from lax to chicago what mess you can do better ',\n",
              " ' yes after this awful weather it appears can get home',\n",
              " ' nd time in row flight out of jfk disaster last time wasn allowed to fly stndby now  hour delay out notification',\n",
              " ' have been on hold for  minutes need help usair why won you help ',\n",
              " ' is flight  dfw to gsp going to be cancelled flightled tomorrow ',\n",
              " ' flight  on   thx',\n",
              " ' but good luck getting there not cool ',\n",
              " ' how long before departure do gates stay open will make my connecting flight  to rdu from flight  ',\n",
              " ' so mad can even believe you guys cancelled flight my connecting flight after leave the first stop amp give me useless hotel voucher',\n",
              " ' ridiculous how you want to charge me  to change flights even with multiple seats available on the flight needed',\n",
              " ' another delay wow',\n",
              " ' trying to check in for flight on line not working amp agents too busy to take my call ',\n",
              " ' what going on with  lga fll poor to no communication from gate agents ',\n",
              " ' ftw hope they ll sing us song on our flight to phoenix today terminal  humphrey https co mavigetbbw',\n",
              " ' lies lies still sitting at the gate have not moved an inch http co lulgnweffh',\n",
              " ' am following you need to follow me for dm ',\n",
              " ' americanair total lack of cust service for mom flying solo baby will not be flying am air again ',\n",
              " ' why don you ever print my known traveler number on my ticket because of this never get to use the tsa prescreen paid for',\n",
              " ' still think american airlines is great would just like to be treated better loyal customers first right ',\n",
              " ' americanair delay and mechanical issues on both my weekend flights ridiculous will tweet as long as we are delayed',\n",
              " ' united in the future when delay causes  hour wait slept night in airport ensuring seating choice for replacement flight would be good ',\n",
              " ' so break whatever you want take no responsibility too bad for customer media filmcrew chicagotribune wsj nytimes cnn',\n",
              " ' called more than  times to redeem mile points and can get through you advertise the miles but make them very hard to use ',\n",
              " ' you just directed me to your mobile website where is the direct link get it together ',\n",
              " ' what going on in clt ',\n",
              " ' couldn have possibly messed up our trip anymore than they did thanks for being such terrible airline disappointed',\n",
              " ' your app says flight ua to zrh departed  hrs late flight but  hours late flightr we are still seating inside the plane in iad failed',\n",
              " ' if you mean beyond opaque maintenance issues yes that would be basic in customer service which your ewr staff can manage ',\n",
              " ' free tv watching daytona  boss http co sbgbnouxy',\n",
              " ' screwed me up big st flight hr late flight made it to nd flight csm daryl wouldn let me on the plane because we were   ',\n",
              " ' my option is to use twitter most of the people working for have no clue what they do they tell you to go to a but its b',\n",
              " ' we have hot female pilot sweet dca to sfo ',\n",
              " ' kudos to your rep patricia at gate b this sunday morning at chicago midway mdw http co mmcwkqpgy',\n",
              " ' will we be able to watch the oscars on our flight tomorrow ',\n",
              " ' airways now covered by bank of america jblu dakota financial news http co wowxhpuqv',\n",
              " ' sent couple messages to the email you provided but to no avail will try again next year cheers ',\n",
              " ' any plans to support applepay on board have the usairways mc and it would be nice to still use it if forget the card ',\n",
              " ' we re home you guys recovered now we can laugh about it and the extra day in barbados will you open cuba soon ',\n",
              " ' fernheinig your delay is due to your own making we have now been back to the gate multiple times maybe take accountability',\n",
              " ' rt jetblue our fleet on fleek http co ncguzdgdaq',\n",
              " ' it not about weather it logistics why should hold for  minutes when you called me why not get more desk agents ',\n",
              " ' would prefer similar picture but full of e tails but great shot ',\n",
              " ' you denied mom her am flight because she needed her breast pumping parts on full flight please fix this asap freeflight',\n",
              " ' your service in philly is unacceptable look into better service  yr old shouldnt have hard time http co wdaktmrmj',\n",
              " ' knew the   hours sounded odd missed flight we hit jfk an hour early for and your gate attendant told us   ',\n",
              " '  out of gainesville fl',\n",
              " ' never got an email confirmation for my ticket but the credit card was charged phone wait time is crazy is there chat ',\n",
              " ' gotcha but lessening the delay that part not happening right ',\n",
              " ' none of your sample itineraries can actually be booked http co mfrabgna every last leg back to us says invalid',\n",
              " ' m familiar with the procedure it wouldn be the first time unitedairlines lost one of my bags unhappytraveler',\n",
              " '  hour delay pho mia your airline is bad and getting worse foolish for american to merge you treat your customers like crap',\n",
              " ' we had friend there telling the gate attendant and the stewardess what was going on notourfaultyoudontuseyourgatesright',\n",
              " '  hs students from ithaca ny stuck in miami flts xld won rebook to get kids home use carrier alliance rulesshouldbend',\n",
              " ' is it even legal for you guys to advertise flights that you cant honor ',\n",
              " ' sfo natt the agent who helped me really did an awesome job ',\n",
              " ' stop ur bs promos of anywhere starting at  click and everywhere d fly  the only place thats  is cle nothanks',\n",
              " ' americanair svllindia provides you the best logistics experience for people all over india mumbai surat navimumbai',\n",
              " ' how have you not loaded our luggage on the plane and were over an hour delayed flight',\n",
              " ' you have the best flight attendant ever http co pxdelnql',\n",
              " ' please respond to me ve been on hold on the reservations line for an hour and  minutes would really appreciate it ',\n",
              " ' wow flight cancelled flightled slept on the floor at the airport and now flight delayed',\n",
              " ' what is your phone number can find who to call about flight reservation ',\n",
              " ' made it just huge relief thanks for your help ',\n",
              " ' we had early bird and it was great your employees were awesome it was  passengers who killed the buzz ',\n",
              " ' strikes again why board anyone if there something wrong with the plane common sense ',\n",
              " ' also do you have any way to speak to someone on the phone your   has been hanging up on me all day ',\n",
              " ' did mention that was on the plane so is my luggage my luggage that m not going to have for how many days ',\n",
              " ' same day flights',\n",
              " ' on flight  to orlando ridiculous that we had to wait for this high school band to board notbabysitters whrsthecoach ',\n",
              " ' thank you so much for access to destinationdragons tonight at thetroubadour imaginedragons crying dying rn ripme',\n",
              " ' need help with flight weather funeral tough combination on hold for over an hour please ',\n",
              " ' thanks for helping my mom after allegiantair wouldn let her get on her plane in orlando you re the best customerservice',\n",
              " ' are you an incompetent airline every day or just days that end in ',\n",
              " ' my mistake multibillion dollar company',\n",
              " ' thx  replying after trying  get thru many times amp mail or people hanging up on us we talked  tech cont d',\n",
              " ' that is not very gracious of jetblue to tell me where can go buy water or snack when our flight is delayed over  hours ',\n",
              " ' would ',\n",
              " ' ve never met my favorite band and it would be sooo amazing to win destination dragons ',\n",
              " ' to recap you bounced me off my flight lied to me then hung up on me what am supposed to think do now ',\n",
              " ' my wife and will be sharing this dreadful experience don pretend ua cares about young girl traveling alone united airlines',\n",
              " ' that would help or how about integrate it into the app so can just activate it and surf ',\n",
              " ' my  to clt left the gate what is next for clt need help',\n",
              " ' fail set to song http co axpnxiqb united breaks guitars lt lmao ',\n",
              " ' amazingly awesome customer service from your reservation agents tonight helping correct mistake so love this airline ',\n",
              " ' hmm looks like you looked at my tweet from last month not this one was able to get k agent to help me thanks ',\n",
              " ' membership has no privileges anymore my son is in the army short window to see him no help ',\n",
              " '  thank you for asking ',\n",
              " ' its ridic you cant transfer credit you have my  amp youre taking  of it for cancelled flightling atleast let me keep the credit damn',\n",
              " ' just picked up my bag at seatac all the clothes are soaking wet bagawim http co ngxaloml',\n",
              " ' airlines st amp only time ever fly your airline what disgrace jimtrotter_nfl should ve listened to your tweet horrible',\n",
              " ' how do you do that you guys need to have much better communication how how can we do that ',\n",
              " ' that where we all get on the same page cancelled flighted it  mins ago delta southwestair help flights from tfgreenairport to mco ',\n",
              " ' an idea monitor mileage members travel patterns enough to know when they change jobs lose status and make the transition easier ',\n",
              " ' lol thanks to you we had to switch to american http co slbdrxfn',\n",
              " ' why are you always so amazing jetblue trueblue http co iimtjxcvlg',\n",
              " ' grouchy about this flight  complimentarybeveragesneeded',\n",
              " ' you need this song for your next commercial https co jurhzrqc swa love',\n",
              " ' could have voided the ticket since it was gt hrs since flight booking problems are you going to waive the fees still can get through ',\n",
              " ' claudoakeshott don need this link after getting person now say don know where bags are lost on nonstop phx to jfk ',\n",
              " ' m trying to merge my freq flyer accts but keep getting an error message and only machine when calling the provided help ',\n",
              " ' big thanks to the gate agent flt keeping us informed of the delay greatcustomerservice',\n",
              " ' just sent dm',\n",
              " ' suppose your customers enjoy screaming toddlers then not my problem if someone complains ',\n",
              " ' imaginedragons tried it okay',\n",
              " ' you idiots kept an on time plane on the tarmac for over an hour forcing us to not be there  minutes before ',\n",
              " ' hey me and my family have questions on trip to disney world that we are doing in april please follow me so could dm you guys',\n",
              " ' just sent you dm additonal info',\n",
              " ' hi there am flying myr clt ord tomorrow is weather looking ok or problematic ',\n",
              " ' even with the multiplier the ticket price will still never equal the amount of miles you travel even for transatlantic flights ',\n",
              " ' wasn just delay your counter wouldn take valid cac card as valid id which is needed for tsa precheck on pass',\n",
              " ' jfk nyc staff is amazing the lax jetblue sending an email with details but it was disappointing experience jetbluecheeps',\n",
              " ' you guys are awesome thanks ',\n",
              " ' there over  people in line and only one agent ',\n",
              " ' tough can take zero meaningful assistance while stranded for  days is another matter looking for signs you care abt cust ',\n",
              " ' m confused after your dulles_airport agents directed us to go to your website after delays nothing works http co cyprhegok',\n",
              " ' appreciate the follow up ',\n",
              " ' would like to see you do similar in phl http co nvgenpib',\n",
              " ' what happened we didn get notification about departure cancelled flightation tomorrow why will it take  hrs to talk to someone',\n",
              " ' kleinerin hi know pastor or homeschool mom who might like spirited have em contact me on prefundia http co jrbzlhrwy',\n",
              " ' ll be sending posting complete details of the circumstances surrounding this matter united airlines should be ashamed ',\n",
              " ' stay more than h traveling ans sleeping on the airports floor',\n",
              " ' more lies they said in their email we were delayed due to weather when the sky was clear in the city we were departing ',\n",
              " ' thank you bringbacktheluvtordu miami directflights',\n",
              " ' please tell clt flight  needs gate waiting now for  mins ',\n",
              " ' when click that link it wants my flight info haven booked flight yet read you waive fees for military it this true ',\n",
              " ' could put one here in baltimore http co vlcikvip',\n",
              " ' yes but like need my luggage before tomorrow morning',\n",
              " ' my son left his ipad on flight  from jfk to fll on monday called and left message and have no heard back seat a ',\n",
              " ' didn make reservation yet it about changing name on my dividend miles account',\n",
              " ' ice which totally understand but when large number of us are facing  hours of time and overnight cancelled flightations it seems like',\n",
              " ' flight cancelled flightled can go home until tomorrow could use dinner and play americanair it my first time in nyc ',\n",
              " ' there an hour wait here for reflight booking problems in line at omaha ',\n",
              " ' my flight from vcp to jfk was delayed and now it has been cancelled flighted what should do ',\n",
              " ' http co hjkqchn however is completely under your control the price was and still is displayed on http co hjkqchn ',\n",
              " ' thank you so much that helps lot ',\n",
              " ' can have my bags back ding ',\n",
              " ' are the miles going to be restructured help silver status brotha out thought was winning with you guys until today lol',\n",
              " ' seriously this is just complete bs ',\n",
              " ' thanks got put on the am flight tomorrow don have much faith it ll get off the ground tomorrow though ',\n",
              " ' hope can be apart of the team with this job opening ',\n",
              " ' just landed in phl row  window cover on nsw could use some luv http co wqzztiemx',\n",
              " ' spent  on my flight could have gone on united for  but their mileage program sucks ',\n",
              " ' she cut people off  minutes before flight time to check in bags for flight that was delayed  hours waited  more hrs ',\n",
              " ' once again on glassdoor best places to work snagging  overall notsurprising luvthem',\n",
              " ' of course but interesting how united doesn seem to have good sense on what happening with flight',\n",
              " ' tried them not helpful really dissatisfied with flight booking problems my whole trip with jet blue this time around besides the flights ',\n",
              " ' your agent did not say',\n",
              " ' we ve now lost whole day of our honeymoon very disappointed and frustrated with everything ',\n",
              " ' have been denied not sure how you charge  one way then  on way hime',\n",
              " ' thank you ',\n",
              " ' had to sit in your kitchen and move stuff around so had what needed m extremely disappointed in your service',\n",
              " '  at lgb in sunny so cal http co vpkdsi',\n",
              " ' belt issues been rough day for them worst part is traveling with  month old and having to wait outside in  degree',\n",
              " ' lax sunrise ual lax jfk',\n",
              " 'why we can have nice things rt jetblue our fleet on fleek http co hprppcvhx',\n",
              " ' stuck here in iah waiting on flight  to honolulu for  hours due to maintenance issues could we have gotten new plane fail',\n",
              " ' we have just landed thank you anyway btw flight staff on flight  were wonderful despite their full day and heavy load ',\n",
              " ' correct what correct sorry m lost',\n",
              " ' this has been the worst flight experience ve ever had thank you for ending my vacation on such bad note ',\n",
              " ' your boarding process sucks you should learn from southwestair',\n",
              " ' foxnews serious potential for wanna get away commercial out of this debacle but for real you should fire kristi_capel',\n",
              " '  of  first seats open on ua no upgrades processed gate agents yyz said their too busy not cool http co kpyhckal',\n",
              " ' has getaway deals through may from  one way lots of cool cities http co tzzjhuibch cheapflights farecompare',\n",
              " ' want hotel room and whiskey ',\n",
              " ' would take the  voucher you offered for miscounting the of seats on your plane but that means would have to fly you again',\n",
              " ' you definitely will ',\n",
              " ' airlines is the absolute worst they have no idea what they are doing neveragain unitedairlines',\n",
              " ' hello it been four hours since plane landed flt  phx to jfk  hrs on tarmac waiting  gate plus an hour no bags yet',\n",
              " '  had wi fi broken on plane had same outage on  on friday how can southwest get it right on every plane but united can ',\n",
              " ' umm unexpected unexpected meaning you guys didn know you had major staff shortage ',\n",
              " ' cancelled flights arrivals amp departures in nashville as of pm that and more weather headlines pm liveonfox februaryfreezefox',\n",
              " ' ve dm you thanks ',\n",
              " ' was on hold for over  minutes and was talking to one of your employees asked him for name or id and he hung up in my face ',\n",
              " ' tpa ord aa another successful journey thanks for the hospitality ',\n",
              " ' thanks for being so good to us military folk it cold in stlouis but sure enjoyed my flight http co rcdhqj',\n",
              " ' lost  loyal customers and mileage plus card holders we could have driven to florida from pa quicker both ways worst trip ever ',\n",
              " ' so far no call back',\n",
              " ' all are fast we already have our  winners congrats ',\n",
              " ' no space in my seat but thanks to your pilots m back mn early to ohare didn think that was possible snaord ',\n",
              " ' change fee of  same exact flight from atl hou is  why charge of  the math doesn add up ',\n",
              " ' worst experience ever unable  help over phone and told at last min cabin crew unavailable for flight never again usairways',\n",
              " ' how is it that book flight with reserved seat and then go to check in and find out have no seat wtf ',\n",
              " ' okay just signed up ',\n",
              " ' yes it is in dulles and need it delivered to the embassy suites in herndon va m still in chicago from the fiasco in lax',\n",
              " ' from here on out when can at all m flying delta since when is plane getting stuck in drift for  hours weather issue ',\n",
              " ' will admit you ve been rather good to me over the years you ve still got me hooked for now peace ',\n",
              " ' just touched down in miami not too far off nicely done united ',\n",
              " ' thanks but when asked for change with no cost for you the only desition was nade by computer now is late flight',\n",
              " ' why haven you updated that flight  is delayed super frustrating',\n",
              " ' how do you lose gate checked bag den to ord direct flight ugh ',\n",
              " ' reservation agent on the phone did great job ',\n",
              " ' saying my friend missed her flight when she clearly sat next to me on the plane amp now you re cancelled flighting her flight home wtf ',\n",
              " ' new  plane wifi not working entertainment non existent new seats seriously uncomfortable really unitedfail ua',\n",
              " ' yes myself and about  other people also ',\n",
              " ' thank you ',\n",
              " ' cost me  day of vacation  and all got was rude woman tell me to go to another country and figure out how to get ',\n",
              " 'is rudeness and poor customers service job requirement at americanair been waiting hrs and still haven even seen one plane ',\n",
              " ' is the   bonus at flowers still on or did it expire    ',\n",
              " ' am in let do this ',\n",
              " ' thank you but it says the website is down',\n",
              " ' soooo are you guys going to leave the seatbelt light on all flight you can barely call this turbulence ',\n",
              " ' flight  been sitting bradley_airport gate  for  min door open since we arrived still no jet bridge can someone help ',\n",
              " ' still sitting here waiting for plane  hours wasted',\n",
              " ' is that the same reliable system couldn find my info and then said it refund my credit card ',\n",
              " ' great crew for flight  phx to yvr tonight friendly efficient awesome job ',\n",
              " ' due to gate agents missed my connecting flight to mexico city not happy customer aa let correct this',\n",
              " ' received horrible customer service at lax on   reservation cancelled flighted without notification despite having confirmation number ',\n",
              " ' flight to atlanta getting cancelled flightled and then had to re schedule on the phone for over   hours with rep this bumping us',\n",
              " ' this would be an awesome experience destinationdragons',\n",
              " ' what a good address to send feedback over email ',\n",
              " ' ll pass along the advice you guys rock ',\n",
              " ' jetblue process begins  ',\n",
              " ' mad love http co ojrsdwpkk nyc ',\n",
              " ' was not the one traveling was asking for my sister who was waiting on my nephew in midland flight eventually landed',\n",
              " ' keep up the great work ',\n",
              " ' shavon at customer service desk in charlotte was fantastic so helpful and smiling evn after what sounds like long day reward her',\n",
              " ' thx for checking in never got through via phone on hold over hour how long is too long to wait on hold ugh csfail',\n",
              " ' check in staff at phx are awesome great traffic control for general boarding ',\n",
              " ' d love to know what your policy is for damaged luggage ',\n",
              " ' well perhaps you could highlight where that is stated we travel between canada amp usa on united with only nexus',\n",
              " ' thanks chatted with nice fella about it and he gave me the lowdown ',\n",
              " ' can you share where it is coming from ',\n",
              " ' that what tried to do but when entering email into nd device made email typo no way to fix it amp no option to log out in ',\n",
              " ' dispatcher keeps yelling and hung up on me ',\n",
              " ' thank you guys you are the best ',\n",
              " ' friend at hare and can get on flight bc they say no proof he bought st class tkt he has boarding pass ',\n",
              " ' well m not sure what there is you can do the bad experience had already been had',\n",
              " ' it drops  when take off the other two people and vice versa back and forth ',\n",
              " ' btr trained gate agts im frequent flyer amp have nvr had issue my bag day was forced  gate check while priority boarding',\n",
              " ' what are the chances of my flight to ewr from pit being cancelled flighted tomorrow ',\n",
              " ' two years old birthdate   ',\n",
              " ' flight booking problems all my late flight summer travel did the aus cun direct flight disappear ',\n",
              " ' cannot believe how long flight  phi is taking know it us airways but you own it would really like to get home ',\n",
              " ' just boarded ua was refused from carrying overhead bag as no space in plane now with loads of space fail customerexperience',\n",
              " ' m saying made the flight but with poor non communication unaccounted for lost time amp lots of frustrated flyers standing around',\n",
              " ' ehsanismpowered lmfao',\n",
              " ' tfw jimcramer aarp ty spent total of  hrs and  mins holding cell battery died finally made arrangements kind rep',\n",
              " ' so what allowed or what not allowed to be carried in my checked baggage ',\n",
              " ' us  pilot started the flight by announcing arrival into gatwick not heathrow moments of concern for all aboard ',\n",
              " ' one lady helping the  of us with luggage',\n",
              " ' thanks to lea in the chicago office for her help in switching our cancelled flighted flights ',\n",
              " ' great flight and great view http co aufmxdaj',\n",
              " ' lost my cats missed their flights kept them crated  hrs for would be  hr trip you ll never touch my pets again ',\n",
              " ' bums how do lose the biggest bag on the flight',\n",
              " ' it not just frustrating it was paid for how do we get refund ',\n",
              " ' thank you for the info changes need to be made over the phone correct is there any way an aa agent can call me directly ',\n",
              " ' has made my no fly list other airlines wait when connector late flight stuck in iah ',\n",
              " ' sure did go south after breakfast though delayed three hours ',\n",
              " ' can you respond to my dm ',\n",
              " ' that  extra hours of travel time missed vacation time and now you guys are messing with my professional life ',\n",
              " ' usairways americanair americanone one of you has my bag claim  and want it in mga now ',\n",
              " ' she told us we had to drive back to drop it off so they could attempt to fix it really don have time to do that terrible',\n",
              " ' thanks for moving my dad on to my my mom flight you helped make his birthday start with friendlyfriday awesomeness  paws up ',\n",
              " ' flight  delayed  hours in la due to mechanical problems handle like pros but you could have tossed us free drink ',\n",
              " ' thanks ',\n",
              " ' customer service says since my wife setup family account that she now can join mine for year help me fix please ',\n",
              " ' not giving you hard time just looking for basic customer service after aa lost my bag eta on it return please ',\n",
              " ' yeehaw you found us another plane thx for listening to me vent ',\n",
              " ' friend is having flight cancelled flightlations out of lax to cmh on feb  anyway to help her  number has been no help',\n",
              " ' jackpot legroom http co zoicegli',\n",
              " ' what the point of baggage claim ticket if they don scan it for tracking ',\n",
              " ' cancelled flights your flight then sends you an email saying think about your next flight customer outrage http co kkwiwia',\n",
              " ' we are trying to go as far away from king scollegelondon as possible for charity today would you help us jailbreak rag',\n",
              " ' live abroad and am flight booking problems flights for when come visit the states ',\n",
              " ' firstclass to london on my way to londonfashionweek lfw ',\n",
              " ' and ask she load the bag for my flight',\n",
              " ' americanair m stuck in the airport in fresno trying to beat the storm to pittsburgh and you guys have offered nothing horrid',\n",
              " ' swagglikebean take me here',\n",
              " ' please please please answer the phone ',\n",
              " ' you ever wonder why you find yourselves responding to so many customer complaints on twitter it because your airline sucks ',\n",
              " ' after  days no bags amazing the way that you neglect customers',\n",
              " ' what the deal with the flight computer network ',\n",
              " ' can do the same thing as changing ticket by cancelled flighting my current ticket amp buying replacement online ',\n",
              " ' jasonwhitely flt  emer stop in albuquer for heart condition crew was awesome pilot was maverick on the divert ',\n",
              " ' complete waste of an entire day pathetic ',\n",
              " ' did dm the details back on   when this started with phone number to reach me no reply either online or by phone',\n",
              " ' here we go again  of  segments sfo new york rt were delayed over  hrs each why do you suck so bad maybe another line of bus ',\n",
              " ' m not frequent flyer with us airways m qantas can still get notifications thank you',\n",
              " ' finally made it to chicago  hours late flight did get  food voucher for my wait about per hr never again good bye ',\n",
              " ' welcome anyone who works in those conditions deserves thank you even though am other side of atlantic lol xx',\n",
              " ' why is your website downnnnn ugh',\n",
              " ' his cell phone record needs to be checked to see who did conversed with trust the faa can handle this better ',\n",
              " '  of us are stranded and flying from new orleans to huston tonight and we will be stuck there for two days rather fly than wait ',\n",
              " ' forces us to check our baby bag on overbooked flight complains to wife that we need to much for our baby united has no baby meals',\n",
              " ' im not tho ',\n",
              " ' she got to the gate just in time to watch the plane push back  minutes was all she needed glad we ve relatives nearby ',\n",
              " '  hours now no m not patient why don you have call back feature or pay someone to answer the phone not tweet onhold',\n",
              " ' nice aa employee making skillful excuses about late flightness due to catering snafu http co ypvpvdltys',\n",
              " ' safety first lovejetblue',\n",
              " ' thanks to your airline now have ruined bag and you refuse to do anything about it ',\n",
              " ' can unload flight  because jetway is broken steps planb waiting nearly an hour',\n",
              " ' and after six hours even the gate agent got fed up and left us all on line in front of an empty desk stay classy us air ',\n",
              " ' tonight you made this fred flintstone happy with an upgrade to st class http co gkgkzlawpr',\n",
              " ' asked flight attendant what typical compensation would be amp says we might get free tv unacceptable',\n",
              " ' yes did and the bags came straight to my hotel thank you you guys rock ',\n",
              " ' hi we are flying into iad tomorrow evening do you expect delays or cancelled flightlations with the snow storm ',\n",
              " ' cmh gate staff disaster  overbooked no volunteers no boarding  min late flight trying to figure out issue bringbackrealstaff',\n",
              " ' did it but there was problem in the link from the email for check in thanks',\n",
              " ' nvm gate said they re holding connections thanks for quick response ',\n",
              " ' what terminal lhr for aa ba doesn say in boarding pass',\n",
              " ' they charged me for flight they cancelled flightled unbelievable and unheard of',\n",
              " ' flight cancelled flightled out of bna do have to reschedule now or can travel funds be put back into my account for future use ',\n",
              " ' you will match my americanairlines status cool ',\n",
              " ' satesq theres only one flt phl crw per day ',\n",
              " ' karabuxthomps yeah have lot of questions number one how dare you',\n",
              " ' thank you know ya ll can control the weather appreciate ya ll working to get my flight rebooked the last two days ',\n",
              " ' can i don have acces to phone rn my iphone broke would rather change it now then late flightr ',\n",
              " ' service so far has been horrid we wanted to end the trip on high note guess that not an option ',\n",
              " ' flight  my frustration boiled over after dealing with attendant her attitude was ridiculous ',\n",
              " ' my family and are excited to see you too ',\n",
              " ' customer service hr delay coupon can only be redeemed on website which has  higher prices than expedia call wait time mins',\n",
              " ' thanks keep up the good work',\n",
              " ' is it temporary site glitch or are you no longer offering flights from grr to geg after feb can find any online ',\n",
              " ' askpaypal completed if that the case then why does it still say in progress on paypal website reserved on the th ',\n",
              " ' wife rr pts expired few days ago were planning on flight booking problems trip today anything you can do for us on tight budget ',\n",
              " ' on hold for  minutes trying to rebook cancelled flightled flight with companion ticket help ',\n",
              " ' usairways worst experience of all time will never ever ever travel with you again ever',\n",
              " ' just went to check into flight  hr advance again husband and are seated separately for hr flight why does this happen ',\n",
              " ' gregwallace yea they will give you  cents on the dollar ',\n",
              " ' second pic from cdg ',\n",
              " ' thank you ',\n",
              " ' no thanks',\n",
              " ' okay thanks ',\n",
              " ' really appreciate the great customer service one of your service agents just hung up on me when asking legitimate questions',\n",
              " ' did still haven heard thing ',\n",
              " ' my chariot tonight from this angle it looks like  no http co zzkqwwbjz',\n",
              " ' flight let us off this plane please go to gate this is absurd ',\n",
              " ' sorry should have specified meant ground traffic trying to get into the terminal',\n",
              " ' will my us air points now be combined with yours ',\n",
              " ' been on hold with reservations for over  min already worstairline',\n",
              " ' who should contact about missing rapid rewards credit ',\n",
              " ' it poop and barely works',\n",
              " ' still no rep can talk  days late flightr r asking me to checkin to my flight tmrw and my refund is being requested deal this ',\n",
              " ' haha ty do you know what time that lane opens at logan ',\n",
              " ' only happened because couldn get us home the next day flydelta flysouthwest flyjetblue theyareallbetter stillnobags',\n",
              " ' jetblue our fleet on fleek http co tlgoihqkvs make it stop ',\n",
              " ' customer of the year http co epqqonhoh',\n",
              " ' extend rtn flight to bereavement nd could have change fee dropped now told no worse day of my life badcustomerservice',\n",
              " ' app updated with passbook support http co wrwqrublps via ubergizmo',\n",
              " ' sooo earlier said couldnt fly with you for my school trip but now can ',\n",
              " ' united took screenshot and emailed it to myself let dm and figure this out ',\n",
              " ' no kidding oy ',\n",
              " ' and if the flight is full ',\n",
              " ' stuck in philadelphia airport for  hours due to maintenance dreading my flight back home disgusting ',\n",
              " ' what are your services what promotion you have at the moment modelodenegocio innovation innovacion businessmodel',\n",
              " ' united our newest delay right now http co ftlzwtvo',\n",
              " ' hello united you should take care of your call center in mexico city office terrible attitude from the lady who was helping me ',\n",
              " ' to offer service from daytona beach to new york albany business review http co duhbjjhx',\n",
              " ' m trying to choose my seats but every time go to the next flight get system error',\n",
              " ' she has she hasn heard from anyone in over week nonstop flight and her baggage was lost stolen customer service ',\n",
              " ' we ve been delayed for almost  hrs take jetblue because ve had good luck but today is really frustrating ',\n",
              " ' only  upgrade unsure why she can just switch someone around called  hrs in advance for this reason ',\n",
              " ' great thanks',\n",
              " ' thank you for getting our daughter home when americanair cancelled flightled all their flights to nashville',\n",
              " ' yes ride home would be perfect fete one would assume possible after charging  for domestic flight ps we deplaned',\n",
              " ' totally ruined my birthday weekend by cancelled flighting my flights for no reason and offer no points drink transport nolove cali',\n",
              " ' nope not here you need little red stamp from the counter check yourself before you wreck yourself son http co prgysvurm',\n",
              " ' is there referral program for the milageplus explorer card ',\n",
              " ' you guys fail again all need to do is use my voucher for ticket but can do it online yourphonesystemsucks',\n",
              " ' looks like my  yr anni trip has been replaced someone itinerary worried abt who can my flight http co baperumne',\n",
              " ' thanks for finally letting me get through to book my flight frustration set in donedeal talktoahuman',\n",
              " ' took this one just for you not window also not fun if you get motion sick http co mrvblxs',\n",
              " ' keeps getting better no water on the plane ',\n",
              " ' thank you hopefully it soon we are supposed to leave at  ',\n",
              " ' thank all for being an amazing airline who knows how to treat their customers you guys rock ',\n",
              " ' sent looking for that functionality in your app though should be one click action ',\n",
              " ' need some help my record locator is bringing up two different flights in your system one op by aa amp one from us airways ',\n",
              " ' it okay m actually tea kinda guy anyway thanks ',\n",
              " ' held up for almost  minutes and then promised free movies and it didn work and neither did the wifi that was paid for boo ',\n",
              " ' what with your baggage handlers calling out at dfw today no luggage onboard the planes ',\n",
              " ' so would have to go though the entire process again just to get you people on the phone usairwayssucks',\n",
              " ' you have to be crazy treated my mom very poorly not happy usairwaysfail',\n",
              " ' how many are left ',\n",
              " ' you all work hard at making sure things flow smoothly keeping positive ',\n",
              " ' don blame it on weather rep at counter cost me entire day not weather printed boarding pass too late flight takeresponsibility',\n",
              " ' thanks for updating me about the  hour delay the exact second got to atl ',\n",
              " ' how is this considered on time if it arriving at destination half hour late flightr than scheduled http co ymftwuyhr',\n",
              " ' if it have not rebooked didn get notified that it was cancelled flightled',\n",
              " ' shoutout  kristie sp from gate pvd today she a rockstar was tremendous help in tough situation promotethatgirl',\n",
              " ' this is for check in luggage employee told me not to include wheels in the dimensions ',\n",
              " '  minute hold is  hr  min abc_wtvd',\n",
              " ' you guys are screwing up my trip thanks for nothing lazy',\n",
              " ' the passengers waited inside the flight on the runway and returned back in gate that should not count as valid journey',\n",
              " ' frustrating days no flights home changed airlines thank you phl usairway employees amp united for help getting me back to iah ',\n",
              " ' guys did it again changed ages and double booked seats so had to ve even though have platinum and the other person none',\n",
              " ' cancelled flightled the last part of ticket and am confused from the email received whether value remains is there someone can ask ',\n",
              " ' if business decision is made that inconveniences and possibly causes lost customers is it good business decision cranky',\n",
              " ' my flight got cancelled flightled to charlotte been on hold for an hour pls pick up ',\n",
              " ' wow this just blew my mind',\n",
              " ' aa on time and awesome flight great job american ',\n",
              " ' didn realize no clothes until at hotel suggestions ',\n",
              " ' got mine just in time for the wife and my th anniversary ',\n",
              " ' southwestair pancho_joe no no you must ve heard us wrong sweet mixtape though  the record didn leave the  the  left me',\n",
              " ' sitting at the gate on flight  for an hour due to sabre being down what backup plan is in place if sabre cannot be fixed ',\n",
              " ' is my favorite airlines ve never had issues with them plus there crew is entertaining ',\n",
              " ' made it thanks for the help ',\n",
              " ' is utterly unreliable they didn schedule pilot for their us flight out of seattle flights are delayed usairwaysfail',\n",
              " ' tremendous job atlanta airport saw sw celebrate mardi gras another reason m nuts for you guys http co wbzorrnc',\n",
              " ' it seems like no one from united can help me lots of fingers pointed zero people stepping up at least the gate has oreos',\n",
              " ' fkqw is the conf thanks for the reply',\n",
              " ' rebooked  hours after original flight to say your handling of situation was bad would be an understatement ',\n",
              " ' are flights leaving dallas right now in maui trying to figure out how delayed flight  is going to be',\n",
              " ' one heck of an airline http co cyoonzftdc',\n",
              " ' flying flight  tonight at   from pbi have boarding position  is it overbooked really don want to be bumped ',\n",
              " ' clients got zero in  years career never thought this was possible  suitcases worth thousands of in italian clothing robbed ',\n",
              " ' now what you cancelled flightled my flight again are you paying for my hotel ',\n",
              " ' your response has been incredible truly amazed at the steps you have taken to enhance your customer relations big thank you ',\n",
              " ' just wow regina just told me can file or request lost bag statement until finish my travel so until get to dc argg',\n",
              " ' since have an international connection at am m hoping for the same thing ',\n",
              " ' all day',\n",
              " ' how long will it take for miles that re purchased they had expired to show up recieved an email that the request had been ',\n",
              " ' is probably the least satisfactory airline ve ever been on never fails to disappoint ',\n",
              " ' airlines is changing its mileageplus program winners and losers http co fyvaioul http co vglxykwqg',\n",
              " ' seguinej aa this is joke right that line isn even accepting calls right now they just hang up ',\n",
              " ' nonrefundable hence wrote  doesn make sense for my  credit nothanks',\n",
              " ' even  years after the earthquake haiti still needs helps in rebuilding flyingitforward',\n",
              " ' despite mechanical issues and many delays followed by cancelled flightlation still getting to vegas thanks to great gate agents ',\n",
              " ' no excuse though for  gate changes though ',\n",
              " ' may need to had  minute layover and now have  min delay on my first flight ',\n",
              " ' how do get reimbursed for hotel and taxis for the cancelled flightation ',\n",
              " ' but have been yet to receive assistance from one of your agents in securing new connection many will now miss work tomorrow ',\n",
              " ' british_airways three hour flight delay on the phone for min and counting ',\n",
              " '  everyone else was outstanding ',\n",
              " ' think she was having rough moment a bad passenger from an earlier flight things got considerably better thanks ',\n",
              " ' thanks ',\n",
              " ' cancelled flightled my ticket and is taking two months to refund and still waiting ',\n",
              " ' should but didn ',\n",
              " ' shout out to the pilots and fc attendant eliz of us  super strong crosswinds during landing eliz did super job throughout',\n",
              " ' see you coming to get me and aggiemensgolf in hawaii thman http co gdkaedhf',\n",
              " ' dfwairport you  together are the best part of flying ',\n",
              " ' to late flight now but in future flights train staff better to handle emergency situations and ground staff in customer service',\n",
              " ' oh united how much despise thee ',\n",
              " ' airlines ceo jeff smisek disloyal to loyal workers http co cevypb via huffpostbiz',\n",
              " '   disappointed in the service will be missing my connection after over an hour delay cramped seats at least their app is good',\n",
              " ' we had to sit in the airport long periolodicly time the planes were nasty',\n",
              " '  was flight out of houston',\n",
              " ' fuck you for not caring ',\n",
              " ' do you have any info about when destinationdragons winners will be announced me amp my best friend are hoping to win thanks ',\n",
              " ' thanks',\n",
              " ' can tweet through the weekend bad weather but closes down customer relations center to process refunds for cancelled flighted flights ',\n",
              " ' missing out on over   points in one account they re now spread over four assuming create accounts for them',\n",
              " ' used to be committed continentalairlines flyer until merger remember now why switched to southwestair communicationfail',\n",
              " ' will as soon as am done with my article thanks tom',\n",
              " ' you re not finding it bc united rebooked us on your airline when they realized they couldn get us home and we re at ord',\n",
              " ' gave up http co edgctbls',\n",
              " ' ticket couldnt be used bc unable to get to departing dest rsw bc of blizzard in bos told only way to use credit is  fine',\n",
              " ...]"
            ]
          },
          "metadata": {
            "tags": []
          },
          "execution_count": 11
        }
      ]
    },
    {
      "cell_type": "code",
      "metadata": {
        "colab": {
          "base_uri": "https://localhost:8080/"
        },
        "id": "T9Vqr1S1YTHQ",
        "outputId": "a6845a5c-b2f5-49eb-c235-291ecf2ea292"
      },
      "source": [
        "from sklearn.preprocessing import LabelEncoder\n",
        "le = LabelEncoder()\n",
        "labels = le.fit_transform(labels)\n",
        "labels"
      ],
      "execution_count": 12,
      "outputs": [
        {
          "output_type": "execute_result",
          "data": {
            "text/plain": [
              "array([0, 2, 2, ..., 0, 0, 0])"
            ]
          },
          "metadata": {
            "tags": []
          },
          "execution_count": 12
        }
      ]
    },
    {
      "cell_type": "markdown",
      "metadata": {
        "id": "13Agw3Vc2Ydm"
      },
      "source": [
        "## tf-idf"
      ]
    },
    {
      "cell_type": "code",
      "metadata": {
        "colab": {
          "base_uri": "https://localhost:8080/"
        },
        "id": "_BrJInTgAxMt",
        "outputId": "63653674-148a-4425-acb7-968307c6f2de"
      },
      "source": [
        "import nltk\n",
        "nltk.download('stopwords')\n",
        "from nltk.corpus import stopwords\n",
        "from sklearn.feature_extraction.text import TfidfVectorizer\n",
        "\n",
        "vectorizer = TfidfVectorizer(max_features=2500, min_df=7, max_df=0.8, stop_words=stopwords.words('english'))\n",
        "vect_features = vectorizer.fit_transform(processed_features).toarray()"
      ],
      "execution_count": null,
      "outputs": [
        {
          "output_type": "stream",
          "text": [
            "[nltk_data] Downloading package stopwords to /root/nltk_data...\n",
            "[nltk_data]   Package stopwords is already up-to-date!\n"
          ],
          "name": "stdout"
        }
      ]
    },
    {
      "cell_type": "code",
      "metadata": {
        "colab": {
          "base_uri": "https://localhost:8080/"
        },
        "id": "oRMGvc9GSD_s",
        "outputId": "b9032ec4-d654-4dc6-8fef-0e890c0ef6e9"
      },
      "source": [
        "vect_features"
      ],
      "execution_count": null,
      "outputs": [
        {
          "output_type": "execute_result",
          "data": {
            "text/plain": [
              "array([[0., 0., 0., ..., 0., 0., 0.],\n",
              "       [0., 0., 0., ..., 0., 0., 0.],\n",
              "       [0., 0., 0., ..., 0., 0., 0.],\n",
              "       ...,\n",
              "       [0., 0., 0., ..., 0., 0., 0.],\n",
              "       [0., 0., 0., ..., 0., 0., 0.],\n",
              "       [0., 0., 0., ..., 0., 0., 0.]])"
            ]
          },
          "metadata": {
            "tags": []
          },
          "execution_count": 119
        }
      ]
    },
    {
      "cell_type": "code",
      "metadata": {
        "id": "mun59r1SAxQv"
      },
      "source": [
        "from sklearn.model_selection import train_test_split\n",
        "\n",
        "X_train, X_test, y_train, y_test = train_test_split(vect_features, labels, test_size=0.2, random_state=0)"
      ],
      "execution_count": null,
      "outputs": []
    },
    {
      "cell_type": "code",
      "metadata": {
        "colab": {
          "base_uri": "https://localhost:8080/"
        },
        "id": "G3jknJuAYF77",
        "outputId": "c6ea09c4-d47b-4603-dff6-edd5d4ab7c5b"
      },
      "source": [
        "X_train, y_train"
      ],
      "execution_count": null,
      "outputs": [
        {
          "output_type": "execute_result",
          "data": {
            "text/plain": [
              "(array([[0., 0., 0., ..., 0., 0., 0.],\n",
              "        [0., 0., 0., ..., 0., 0., 0.],\n",
              "        [0., 0., 0., ..., 0., 0., 0.],\n",
              "        ...,\n",
              "        [0., 0., 0., ..., 0., 0., 0.],\n",
              "        [0., 0., 0., ..., 0., 0., 0.],\n",
              "        [0., 0., 0., ..., 0., 0., 0.]]), array([2, 0, 0, ..., 0, 2, 0]))"
            ]
          },
          "metadata": {
            "tags": []
          },
          "execution_count": 127
        }
      ]
    },
    {
      "cell_type": "code",
      "metadata": {
        "colab": {
          "base_uri": "https://localhost:8080/"
        },
        "id": "spD9Vjy7AxWF",
        "outputId": "f40cbb85-413a-4d0e-f671-aaa5c72a9d98"
      },
      "source": [
        "from sklearn.ensemble import RandomForestClassifier\n",
        "\n",
        "text_classifier = RandomForestClassifier(n_estimators=200, random_state=0)\n",
        "text_classifier.fit(X_train, y_train)"
      ],
      "execution_count": null,
      "outputs": [
        {
          "output_type": "execute_result",
          "data": {
            "text/plain": [
              "RandomForestClassifier(bootstrap=True, ccp_alpha=0.0, class_weight=None,\n",
              "                       criterion='gini', max_depth=None, max_features='auto',\n",
              "                       max_leaf_nodes=None, max_samples=None,\n",
              "                       min_impurity_decrease=0.0, min_impurity_split=None,\n",
              "                       min_samples_leaf=1, min_samples_split=2,\n",
              "                       min_weight_fraction_leaf=0.0, n_estimators=200,\n",
              "                       n_jobs=None, oob_score=False, random_state=0, verbose=0,\n",
              "                       warm_start=False)"
            ]
          },
          "metadata": {
            "tags": []
          },
          "execution_count": 128
        }
      ]
    },
    {
      "cell_type": "code",
      "metadata": {
        "id": "edHXBgsPAxZ7"
      },
      "source": [
        "predictions = text_classifier.predict(X_test)"
      ],
      "execution_count": null,
      "outputs": []
    },
    {
      "cell_type": "code",
      "metadata": {
        "colab": {
          "base_uri": "https://localhost:8080/"
        },
        "id": "w_QwixEvAxfK",
        "outputId": "eee673d7-50ce-4e4c-bead-05700559e057"
      },
      "source": [
        "from sklearn.metrics import confusion_matrix, accuracy_score\n",
        "\n",
        "print(confusion_matrix(y_test,predictions))\n",
        "print('accuracy score',accuracy_score(y_test, predictions))"
      ],
      "execution_count": null,
      "outputs": [
        {
          "output_type": "stream",
          "text": [
            "[[1263   82   36]\n",
            " [ 211  195   51]\n",
            " [ 110   47  201]]\n",
            "accuracy score 0.755464480874317\n"
          ],
          "name": "stdout"
        }
      ]
    },
    {
      "cell_type": "code",
      "metadata": {
        "id": "-X43bCLk8PTR"
      },
      "source": [
        ""
      ],
      "execution_count": null,
      "outputs": []
    },
    {
      "cell_type": "markdown",
      "metadata": {
        "id": "mKQjCwtu2diT"
      },
      "source": [
        "## word embedding"
      ]
    },
    {
      "cell_type": "code",
      "metadata": {
        "id": "6S_NJpgQ1ZJ_"
      },
      "source": [
        "import tensorflow as tf\n",
        "from tensorflow.keras.layers import Embedding, GlobalAveragePooling1D, Dense\n",
        "from tensorflow.keras.preprocessing.sequence import pad_sequences\n",
        "from tensorflow.keras.models import Sequential\n",
        "# from tensorflow.keras.preprocessing.text import one_hot"
      ],
      "execution_count": 67,
      "outputs": []
    },
    {
      "cell_type": "code",
      "metadata": {
        "id": "E4T97Zp71Zar"
      },
      "source": [
        "train_seq = processed_features[:8784]\n",
        "test_seq = processed_features[8784:]\n",
        "train_lab = labels[:8784]\n",
        "test_lab = labels[8784:]"
      ],
      "execution_count": 105,
      "outputs": []
    },
    {
      "cell_type": "code",
      "metadata": {
        "id": "cK1G-IZK1ZM4"
      },
      "source": [
        "# onehot_repr = tqdm([one_hot(str(line), 1000) for line in lis]) \n",
        "# print(onehot_repr)\n",
        "\n",
        "from tensorflow.keras.preprocessing.text import Tokenizer\n",
        "tokenizer = Tokenizer()\n",
        "tokenizer.fit_on_texts(processed_features)\n",
        "word_index = tokenizer.word_index\n",
        "\n",
        "train_sequence = tokenizer.texts_to_sequences(train_seq)\n",
        "test_sequence = tokenizer.texts_to_sequences(test_seq)\n",
        "train_padded = pad_sequences(train_sequence, maxlen=30, padding='post')\n",
        "test_padded = pad_sequences(test_sequence, maxlen=30, padding='post')"
      ],
      "execution_count": 108,
      "outputs": []
    },
    {
      "cell_type": "code",
      "metadata": {
        "colab": {
          "base_uri": "https://localhost:8080/"
        },
        "id": "XlIoBV6DSejm",
        "outputId": "1badf479-8c81-4753-8d13-830c6f179905"
      },
      "source": [
        "train_padded.shape, test_padded.shape, train_padded[0]"
      ],
      "execution_count": 110,
      "outputs": [
        {
          "output_type": "execute_result",
          "data": {
            "text/plain": [
              "((8784, 30),\n",
              " (2196, 30),\n",
              " array([ 67, 552,   4,   2, 222, 163,  84,   2, 835, 158,  18, 219,  63,\n",
              "          8, 893,   5,  19,   2, 105,  65,  33,  75,   0,   0,   0,   0,\n",
              "          0,   0,   0,   0], dtype=int32))"
            ]
          },
          "metadata": {
            "tags": []
          },
          "execution_count": 110
        }
      ]
    },
    {
      "cell_type": "code",
      "metadata": {
        "colab": {
          "base_uri": "https://localhost:8080/"
        },
        "id": "a-YCw8Y71ZUf",
        "outputId": "a63b4b48-4c42-43cd-95d5-27fc75fdaba8"
      },
      "source": [
        "model=Sequential()\n",
        "model.add(Embedding(15000, 20, input_length = 50))\n",
        "model.add(GlobalAveragePooling1D())\n",
        "model.add(Dense(24, activation='relu'))\n",
        "model.add(Dense(1, activation='sigmoid'))\n",
        "model.compile(loss='mse', optimizer='adam', metrics=['accuracy'])\n",
        "model.summary()"
      ],
      "execution_count": 118,
      "outputs": [
        {
          "output_type": "stream",
          "text": [
            "Model: \"sequential_27\"\n",
            "_________________________________________________________________\n",
            "Layer (type)                 Output Shape              Param #   \n",
            "=================================================================\n",
            "embedding_26 (Embedding)     (None, 50, 20)            300000    \n",
            "_________________________________________________________________\n",
            "global_average_pooling1d_26  (None, 20)                0         \n",
            "_________________________________________________________________\n",
            "dense_22 (Dense)             (None, 24)                504       \n",
            "_________________________________________________________________\n",
            "dense_23 (Dense)             (None, 1)                 25        \n",
            "=================================================================\n",
            "Total params: 300,529\n",
            "Trainable params: 300,529\n",
            "Non-trainable params: 0\n",
            "_________________________________________________________________\n"
          ],
          "name": "stdout"
        }
      ]
    },
    {
      "cell_type": "code",
      "metadata": {
        "colab": {
          "base_uri": "https://localhost:8080/"
        },
        "id": "1R6vAlYFBWhM",
        "outputId": "bb4b380c-47a4-4722-cb15-76de857dc47c"
      },
      "source": [
        "training_padded.shape, labels.shape, type(labels), type(training_padded)"
      ],
      "execution_count": 91,
      "outputs": [
        {
          "output_type": "execute_result",
          "data": {
            "text/plain": [
              "((10980, 30), (10980,), numpy.ndarray, numpy.ndarray)"
            ]
          },
          "metadata": {
            "tags": []
          },
          "execution_count": 91
        }
      ]
    },
    {
      "cell_type": "code",
      "metadata": {
        "colab": {
          "base_uri": "https://localhost:8080/"
        },
        "id": "IfUEztyz_V0u",
        "outputId": "6ba869b2-ff9d-4da6-8965-876c38f4ce6d"
      },
      "source": [
        "hist = model.fit(train_padded, train_lab, epochs=20, validation_data=(test_padded, test_lab))"
      ],
      "execution_count": 124,
      "outputs": [
        {
          "output_type": "stream",
          "text": [
            "Epoch 1/20\n",
            "275/275 [==============================] - 2s 8ms/step - loss: 0.1939 - accuracy: 0.8082 - val_loss: 0.3387 - val_accuracy: 0.6935\n",
            "Epoch 2/20\n",
            "275/275 [==============================] - 2s 7ms/step - loss: 0.1907 - accuracy: 0.8102 - val_loss: 0.3433 - val_accuracy: 0.6949\n",
            "Epoch 3/20\n",
            "275/275 [==============================] - 2s 7ms/step - loss: 0.1881 - accuracy: 0.8123 - val_loss: 0.3448 - val_accuracy: 0.6881\n",
            "Epoch 4/20\n",
            "275/275 [==============================] - 2s 7ms/step - loss: 0.1862 - accuracy: 0.8143 - val_loss: 0.3529 - val_accuracy: 0.6931\n",
            "Epoch 5/20\n",
            "275/275 [==============================] - 2s 8ms/step - loss: 0.1841 - accuracy: 0.8174 - val_loss: 0.3483 - val_accuracy: 0.6840\n",
            "Epoch 6/20\n",
            "275/275 [==============================] - 2s 7ms/step - loss: 0.1828 - accuracy: 0.8177 - val_loss: 0.3512 - val_accuracy: 0.6831\n",
            "Epoch 7/20\n",
            "275/275 [==============================] - 2s 8ms/step - loss: 0.1814 - accuracy: 0.8190 - val_loss: 0.3532 - val_accuracy: 0.6831\n",
            "Epoch 8/20\n",
            "275/275 [==============================] - 2s 7ms/step - loss: 0.1797 - accuracy: 0.8216 - val_loss: 0.3557 - val_accuracy: 0.6826\n",
            "Epoch 9/20\n",
            "275/275 [==============================] - 2s 7ms/step - loss: 0.1790 - accuracy: 0.8216 - val_loss: 0.3655 - val_accuracy: 0.6881\n",
            "Epoch 10/20\n",
            "275/275 [==============================] - 2s 7ms/step - loss: 0.1780 - accuracy: 0.8235 - val_loss: 0.3599 - val_accuracy: 0.6808\n",
            "Epoch 11/20\n",
            "275/275 [==============================] - 2s 8ms/step - loss: 0.1775 - accuracy: 0.8235 - val_loss: 0.3629 - val_accuracy: 0.6908\n",
            "Epoch 12/20\n",
            "275/275 [==============================] - 2s 8ms/step - loss: 0.1769 - accuracy: 0.8242 - val_loss: 0.3655 - val_accuracy: 0.6831\n",
            "Epoch 13/20\n",
            "275/275 [==============================] - 2s 8ms/step - loss: 0.1765 - accuracy: 0.8241 - val_loss: 0.3664 - val_accuracy: 0.6794\n",
            "Epoch 14/20\n",
            "275/275 [==============================] - 2s 7ms/step - loss: 0.1762 - accuracy: 0.8249 - val_loss: 0.3671 - val_accuracy: 0.6817\n",
            "Epoch 15/20\n",
            "275/275 [==============================] - 2s 7ms/step - loss: 0.1760 - accuracy: 0.8247 - val_loss: 0.3699 - val_accuracy: 0.6794\n",
            "Epoch 16/20\n",
            "275/275 [==============================] - 2s 7ms/step - loss: 0.1758 - accuracy: 0.8247 - val_loss: 0.3714 - val_accuracy: 0.6835\n",
            "Epoch 17/20\n",
            "275/275 [==============================] - 2s 7ms/step - loss: 0.1750 - accuracy: 0.8257 - val_loss: 0.3700 - val_accuracy: 0.6785\n",
            "Epoch 18/20\n",
            "275/275 [==============================] - 2s 8ms/step - loss: 0.1748 - accuracy: 0.8256 - val_loss: 0.3730 - val_accuracy: 0.6826\n",
            "Epoch 19/20\n",
            "275/275 [==============================] - 2s 7ms/step - loss: 0.1746 - accuracy: 0.8260 - val_loss: 0.3726 - val_accuracy: 0.6771\n",
            "Epoch 20/20\n",
            "275/275 [==============================] - 2s 7ms/step - loss: 0.1744 - accuracy: 0.8266 - val_loss: 0.3758 - val_accuracy: 0.6821\n"
          ],
          "name": "stdout"
        }
      ]
    },
    {
      "cell_type": "code",
      "metadata": {
        "colab": {
          "base_uri": "https://localhost:8080/"
        },
        "id": "ktZjSBDL1ZXq",
        "outputId": "482f4d07-49b7-41e9-f129-9c471be10e23"
      },
      "source": [
        "model.predict(test_padded)"
      ],
      "execution_count": 121,
      "outputs": [
        {
          "output_type": "execute_result",
          "data": {
            "text/plain": [
              "array([[0.958246  ],\n",
              "       [0.23589799],\n",
              "       [0.79673284],\n",
              "       ...,\n",
              "       [0.01282219],\n",
              "       [0.07851585],\n",
              "       [0.00591816]], dtype=float32)"
            ]
          },
          "metadata": {
            "tags": []
          },
          "execution_count": 121
        }
      ]
    }
  ]
}